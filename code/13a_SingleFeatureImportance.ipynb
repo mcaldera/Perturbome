{
 "cells": [
  {
   "cell_type": "markdown",
   "metadata": {},
   "source": [
    "# Calculate Single Feature importance\n",
    "This code calculates if any single feature of a drug e.g. the amount of transporter annotated, correlates to the final degree"
   ]
  },
  {
   "cell_type": "code",
   "execution_count": null,
   "metadata": {},
   "outputs": [],
   "source": [
    "import numpy as np\n",
    "from matplotlib import pylab as plt"
   ]
  },
  {
   "cell_type": "code",
   "execution_count": null,
   "metadata": {},
   "outputs": [],
   "source": [
    "#Load all single features\n",
    "fp = open('../data/Machine_Learning/SingleDrug_Feature_Overview.csv','r')\n",
    "features = fp.readline().strip().split(',')[5:]\n",
    "\n",
    "#Go through each feature\n",
    "correlations = []\n",
    "for f in range(0,len(features)):\n",
    "    fp.seek(0)\n",
    "    fp.next()\n",
    "    \n",
    "    #extract the feature value as well as the number of interactions of this drug\n",
    "    num_interactions = []\n",
    "    feature_values = []\n",
    "    for line in fp:\n",
    "        tmp = line.strip().split(',')\n",
    "        values = [x for x in tmp[5:]]\n",
    "        \n",
    "        if values[f] != 'nan':\n",
    "            num_interactions.append(float(tmp[1]))\n",
    "            feature_values.append(float(values[f]))\n",
    "    \n",
    "    #Calculate pearson correlation\n",
    "    correlation = np.corrcoef(num_interactions,feature_values)[0][1]\n",
    "    \n",
    "    #Create a scatter plot\n",
    "    plt.scatter(num_interactions,feature_values, alpha=0.4, c='grey')\n",
    "    plt.xlabel('Number Interactions')\n",
    "    plt.ylabel(features[f])\n",
    "    plt.legend(['Pearson: %.2f' %correlation])\n",
    "    plt.savefig('../results/Machine_Learning/SingleFeatureResults/'+features[f]+'.pdf',format='pdf')\n",
    "    plt.close()\n",
    "    #plt.show()\n",
    "    print features[f] +': %.2f' %correlation\n",
    "    correlations.append(correlation)\n",
    "\n",
    "#Make a summary plot over all single features\n",
    "plt.hist(correlations,bins=6, color='grey', edgecolor='grey', linewidth=1.2)\n",
    "plt.xlim([-1,1])\n",
    "plt.xlabel('Single Feature Correlation')\n",
    "plt.savefig('../results/Machine_Learning/SingleFeatureResults/OverviewAllCorrelations.pdf',format='pdf')\n",
    "plt.close()"
   ]
  }
 ],
 "metadata": {
  "kernelspec": {
   "display_name": "Python 2",
   "language": "python",
   "name": "python2"
  },
  "language_info": {
   "codemirror_mode": {
    "name": "ipython",
    "version": 2
   },
   "file_extension": ".py",
   "mimetype": "text/x-python",
   "name": "python",
   "nbconvert_exporter": "python",
   "pygments_lexer": "ipython2",
   "version": "2.7.10"
  }
 },
 "nbformat": 4,
 "nbformat_minor": 2
}
