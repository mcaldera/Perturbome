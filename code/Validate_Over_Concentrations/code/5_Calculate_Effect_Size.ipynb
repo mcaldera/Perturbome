{
 "cells": [
  {
   "cell_type": "markdown",
   "metadata": {},
   "source": [
    "# Calculate Effect Size"
   ]
  },
  {
   "cell_type": "markdown",
   "metadata": {},
   "source": [
    "## Include Libraries"
   ]
  },
  {
   "cell_type": "code",
   "execution_count": 1,
   "metadata": {},
   "outputs": [],
   "source": [
    "import numpy as np\n",
    "from os import listdir\n",
    "from os.path import isfile, join\n",
    "import os\n",
    "from matplotlib import  pylab as plt\n",
    "from scipy import  special"
   ]
  },
  {
   "cell_type": "markdown",
   "metadata": {},
   "source": [
    "## Functions and Defintions"
   ]
  },
  {
   "cell_type": "code",
   "execution_count": 2,
   "metadata": {},
   "outputs": [],
   "source": [
    "# - - - - - - - - - - - - - - - - - - - -\n",
    "# Define Experiment\n",
    "table = 'IsabelCLOUPAC_Per_Image'\n",
    "\n",
    "# - - - - - - - - - - - - - - - - - - - -\n",
    "\n",
    "\n",
    "\n",
    "\n",
    "# Some Easy Outlier detection\n",
    "def reject_outliers_2(data, m=6.):\n",
    "    d = np.abs(data - np.median(data))\n",
    "    mdev = np.median(d)\n",
    "    s = d / (mdev if mdev else 1.)\n",
    "    return [data[i] for i in range(0, len(data)) if s[i] < m]\n",
    "\n",
    "\n",
    "def ensure_dir(file_path):\n",
    "    '''\n",
    "    Function to ensure a file path exists, else creates the path\n",
    "\n",
    "    :param file_path:\n",
    "    :return:\n",
    "    '''\n",
    "    directory = os.path.dirname(file_path)\n",
    "    if not os.path.exists(directory):\n",
    "        os.makedirs(directory)\n",
    "\n",
    "\n",
    "# Methods for getting feature by feature\n",
    "def getFeatureList(mypath='../results/' + table + '/POCNormalized/'):\n",
    "    onlyfiles = [f for f in listdir(mypath) if isfile(join(mypath, f))]\n",
    "    onlyfiles.sort()\n",
    "    features = []\n",
    "    for file in onlyfiles:\n",
    "        features.append(file.strip().split('.')[0])\n",
    "\n",
    "\n",
    "    if '' in features:\n",
    "        features.remove('')\n",
    "\n",
    "    if 'MaxMin_Values' in features:\n",
    "        features.remove('MaxMin_Values')\n",
    "\n",
    "\n",
    "    return features\n",
    "\n",
    "\n",
    "def get_feature_result(feature, db_table):\n",
    "\n",
    "    # go through the input file of the feature\n",
    "    # path = '../data/Normalized_Wells/' + feature + '.csv'\n",
    "    path = '../results/' + db_table + '/POCNormalized/' + feature + '.csv'\n",
    "    fp = open(path, 'r')\n",
    "    fp.next()\n",
    "    feature_results = {}\n",
    "    # mean = {}\n",
    "    for line in fp:\n",
    "        tmp = line.strip().split(',')\n",
    "\n",
    "        plate = int(tmp[0])\n",
    "        well = tmp[1]\n",
    "        drug1 = tmp[2]\n",
    "        conc = tmp[3]\n",
    "        worked = tmp[4]\n",
    "\n",
    "        # if 'nan' for some features this might happen, then just set to mean of the plate\n",
    "        if tmp[5] != 'nan':\n",
    "            normed_value = tmp[5]\n",
    "\n",
    "        else:\n",
    "            # normed_value = np.mean(mean[plate])\n",
    "            normed_value = 0\n",
    "            worked = 'FALSE'\n",
    "\n",
    "        if normed_value == -100000.0:\n",
    "            worked = 'FALSE'\n",
    "\n",
    "\n",
    "        #else basically create an entry in the dictionary with the information as well as the normed value\n",
    "        #if the dictionary does not yet contain the plate, then set it\n",
    "        if feature_results.has_key(plate):\n",
    "            feature_results[plate][well] = {'Drug_1': drug1, 'Conc': conc, 'Worked': worked,\n",
    "                                                 'N_Value': float(normed_value)}\n",
    "        else:\n",
    "            feature_results[plate] = {\n",
    "                well: {'Drug_1': drug1, 'Conc': conc, 'Worked': worked, 'N_Value': float(normed_value)}}\n",
    "\n",
    "    # print feature_results\n",
    "    return feature_results\n",
    "\n",
    "\n",
    "\n",
    "# Effect size\n",
    "def cohen_d(x, y):\n",
    "    nx = len(x)\n",
    "    ny = len(y)\n",
    "    dof = nx + ny - 2\n",
    "    return (np.mean(x) - np.mean(y)) / np.sqrt(\n",
    "        ((nx - 1) * np.std(x, ddof=1) ** 2 + (ny - 1) * np.std(y, ddof=1) ** 2) / dof)\n",
    "\n",
    "\n",
    "def calculate_ZFactor(drug, dmso):\n",
    "    '''\n",
    "    print '---'\n",
    "    print np.std(drug)\n",
    "    print np.std(dmso)\n",
    "    print np.mean(drug)\n",
    "    print np.mean(dmso)\n",
    "    print '---'\n",
    "    '''\n",
    "\n",
    "    return 1 - ((3 * np.std(drug) + 3 * np.std(dmso)) / (abs(np.mean(drug) - np.mean(dmso))))\n",
    "\n",
    "\n",
    "def calculate_ZScore(drug_mean, dmso):\n",
    "    '''\n",
    "\n",
    "    '''\n",
    "\n",
    "    return (drug_mean - np.mean(dmso))/np.std(dmso)"
   ]
  },
  {
   "cell_type": "markdown",
   "metadata": {},
   "source": [
    "## Main Function"
   ]
  },
  {
   "cell_type": "code",
   "execution_count": 26,
   "metadata": {},
   "outputs": [],
   "source": [
    "def calculate_Effect_size(table):\n",
    "    '''\n",
    "    This function calculates the effect size of a given feature using cohen's calculation. The higher the\n",
    "\n",
    "    :return:\n",
    "    '''\n",
    "\n",
    "    ensure_dir('../results/'+table+'/Effect_Size/Effect_Sizes.csv')\n",
    "    fp_out = open('../results/'+table+'/Effect_Size/Effect_Sizes.csv','w')\n",
    "    fp_out.write(\"Feature,Single_ZScore_(MedianTop5%),Single_Number_Significant\\n\")\n",
    "\n",
    "\n",
    "    features = getFeatureList()\n",
    "    single_significant = []\n",
    "    comb_significant = []\n",
    "    for f in features:\n",
    "\n",
    "\n",
    "        screen_results = get_feature_result(f, table)\n",
    "        plates = screen_results.keys()\n",
    "\n",
    "        dmso_poc = []\n",
    "        drugs = {}\n",
    "        for plate in plates:\n",
    "            for well in screen_results[plate]:\n",
    "                \n",
    "                \n",
    "                if screen_results[plate][well]['Worked'] == 'FALSE' or screen_results[plate][well][\n",
    "                    'N_Value'] == -100000:\n",
    "                    continue\n",
    "\n",
    "                    \n",
    "                if screen_results[plate][well]['Drug_1'] == 'DMSO':\n",
    "                    dmso_poc.append(screen_results[plate][well]['N_Value'])    \n",
    "                \n",
    "                # if screen_results[plate][well]['Drug_2'] == 'DMSO':\n",
    "                if screen_results[plate][well]['Drug_1'] != 'DMSO':\n",
    "                    if drugs.has_key(screen_results[plate][well]['Drug_1']+','+screen_results[plate][well]['Conc']):\n",
    "                        drugs[screen_results[plate][well]['Drug_1']+','+screen_results[plate][well]['Conc']].append(screen_results[plate][well]['N_Value'])\n",
    "                    else:\n",
    "                        drugs[screen_results[plate][well]['Drug_1']+','+screen_results[plate][well]['Conc']] = [screen_results[plate][well]['N_Value']]\n",
    "                \n",
    "\n",
    "        dmso_poc = reject_outliers_2(dmso_poc,5)  # DMSO values\n",
    "\n",
    "\n",
    "        single_drug_ZScore = []\n",
    "        for key in drugs:\n",
    "            drug_vals = drugs[key]  # drug values\n",
    "            if len(drug_vals) == 2:\n",
    "                single_drug_ZScore.append(abs(calculate_ZScore(np.mean(drug_vals),dmso_poc)))\n",
    "            else:\n",
    "                continue\n",
    "\n",
    "\n",
    "        p_values_single_drug_ZScore = (1 - special.ndtr(single_drug_ZScore)) * len(single_drug_ZScore)\n",
    "        for (i, item) in enumerate(p_values_single_drug_ZScore):\n",
    "            if item > 1:\n",
    "                p_values_single_drug_ZScore[i] = 1\n",
    "\n",
    "\n",
    "\n",
    "        fp_out.write(f+','+str(np.median(np.percentile(single_drug_ZScore,95)))+','+str(len([x for x in p_values_single_drug_ZScore if x < 0.05])) + '\\n')\n",
    "\n",
    "        single_significant.append(len([x for x in p_values_single_drug_ZScore if x < 0.05]))\n",
    "\n",
    "\n",
    "    fp_out.close()\n",
    "\n",
    "\n",
    "    plt.hist(single_significant,bins='auto',color='grey')\n",
    "    plt.axvline(1,ls='--',c='red')\n",
    "    plt.legend(['Rejected Features: %d' %len([x for x in single_significant if x < 1])] )\n",
    "    plt.savefig('../results/'+table+'/Effect_Size/Single_Effect_Sizes.pdf')\n",
    "\n",
    "\n",
    "\n",
    "\n"
   ]
  },
  {
   "cell_type": "code",
   "execution_count": 27,
   "metadata": {},
   "outputs": [
    {
     "name": "stdout",
     "output_type": "stream",
     "text": [
      "Calculate Effect size for: IsabelCLOUPAC_Per_Image\n"
     ]
    },
    {
     "data": {
      "image/png": "[encoded data removed]",
      "text/plain": [
       "<Figure size 432x288 with 1 Axes>"
      ]
     },
     "metadata": {
      "needs_background": "light"
     },
     "output_type": "display_data"
    }
   ],
   "source": [
    "print 'Calculate Effect size for: %s' %table\n",
    "\n",
    "calculate_Effect_size(table)"
   ]
  },
  {
   "cell_type": "code",
   "execution_count": null,
   "metadata": {},
   "outputs": [],
   "source": []
  },
  {
   "cell_type": "code",
   "execution_count": null,
   "metadata": {},
   "outputs": [],
   "source": []
  },
  {
   "cell_type": "code",
   "execution_count": null,
   "metadata": {},
   "outputs": [],
   "source": []
  },
  {
   "cell_type": "code",
   "execution_count": null,
   "metadata": {},
   "outputs": [],
   "source": []
  },
  {
   "cell_type": "code",
   "execution_count": null,
   "metadata": {},
   "outputs": [],
   "source": []
  }
 ],
 "metadata": {
  "kernelspec": {
   "display_name": "Python 2",
   "language": "python",
   "name": "python2"
  },
  "language_info": {
   "codemirror_mode": {
    "name": "ipython",
    "version": 2
   },
   "file_extension": ".py",
   "mimetype": "text/x-python",
   "name": "python",
   "nbconvert_exporter": "python",
   "pygments_lexer": "ipython2",
   "version": "2.7.10"
  }
 },
 "nbformat": 4,
 "nbformat_minor": 2
}
