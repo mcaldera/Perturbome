{
 "cells": [
  {
   "cell_type": "markdown",
   "metadata": {},
   "source": [
    "# Image Quality\n",
    "Use of isolation random forest on CellProfiler ImageQuality features to detect maximum distorted images i.e. images containing illumination/saturation or mechanical problems (e.g. scratches in well)"
   ]
  },
  {
   "cell_type": "markdown",
   "metadata": {},
   "source": [
    "### Included Libraries"
   ]
  },
  {
   "cell_type": "code",
   "execution_count": 1,
   "metadata": {},
   "outputs": [],
   "source": [
    "import pandas as pd\n",
    "import MySQLdb\n",
    "from matplotlib import pylab as plt\n",
    "import numpy as np\n",
    "import os\n",
    "\n",
    "\n",
    "from sklearn.preprocessing import StandardScaler\n",
    "from sklearn.decomposition import PCA\n",
    "from sklearn.preprocessing import StandardScaler\n",
    "from sklearn.ensemble import IsolationForest"
   ]
  },
  {
   "cell_type": "markdown",
   "metadata": {},
   "source": [
    "### Routinely used functions"
   ]
  },
  {
   "cell_type": "code",
   "execution_count": 2,
   "metadata": {},
   "outputs": [],
   "source": [
    "def ensure_dir(file_path):\n",
    "    '''\n",
    "    Function to ensure a file path exists, else creates the path\n",
    "\n",
    "    :param file_path:\n",
    "    :return:\n",
    "    '''\n",
    "    directory = os.path.dirname(file_path)\n",
    "    if not os.path.exists(directory):\n",
    "        os.makedirs(directory)"
   ]
  },
  {
   "cell_type": "markdown",
   "metadata": {},
   "source": [
    "### Main code"
   ]
  },
  {
   "cell_type": "markdown",
   "metadata": {},
   "source": [
    "#### Find problematic images"
   ]
  },
  {
   "cell_type": "code",
   "execution_count": 10,
   "metadata": {},
   "outputs": [
    {
     "name": "stdout",
     "output_type": "stream",
     "text": [
      "0\tImage_ImageQuality_Correlation_BetaTubulin_30\tQuality\n",
      "1\tImage_ImageQuality_Correlation_BetaTubulin_75\tQuality\n",
      "2\tImage_ImageQuality_Correlation_DAPI_30\tQuality\n",
      "3\tImage_ImageQuality_Correlation_DAPI_75\tQuality\n",
      "4\tImage_ImageQuality_FocusScore_BetaTubulin\tQuality\n",
      "5\tImage_ImageQuality_FocusScore_DAPI\tQuality\n",
      "6\tImage_ImageQuality_LocalFocusScore_BetaTubulin_30\tQuality\n",
      "7\tImage_ImageQuality_LocalFocusScore_BetaTubulin_75\tQuality\n",
      "8\tImage_ImageQuality_LocalFocusScore_DAPI_30\tQuality\n",
      "9\tImage_ImageQuality_LocalFocusScore_DAPI_75\tQuality\n",
      "10\tImage_ImageQuality_MADIntensity_BetaTubulin\tQuality\n",
      "11\tImage_ImageQuality_MADIntensity_DAPI\tQuality\n",
      "12\tImage_ImageQuality_MeanIntensity_BetaTubulin\tQuality\n",
      "13\tImage_ImageQuality_MeanIntensity_DAPI\tQuality\n",
      "14\tImage_ImageQuality_MedianIntensity_BetaTubulin\tQuality\n",
      "15\tImage_ImageQuality_MedianIntensity_DAPI\tQuality\n",
      "16\tImage_ImageQuality_MinIntensity_BetaTubulin\tQuality\n",
      "17\tImage_ImageQuality_MinIntensity_DAPI\tQuality\n",
      "18\tImage_ImageQuality_PercentMinimal_BetaTubulin\tQuality\n",
      "19\tImage_ImageQuality_PercentMinimal_DAPI\tQuality\n",
      "20\tImage_ImageQuality_PowerLogLogSlope_BetaTubulin\tQuality\n",
      "21\tImage_ImageQuality_PowerLogLogSlope_DAPI\tQuality\n",
      "22\tImage_ImageQuality_Scaling_BetaTubulin\tQuality\n",
      "23\tImage_ImageQuality_Scaling_DAPI\tQuality\n",
      "24\tImage_ImageQuality_StdIntensity_BetaTubulin\tQuality\n",
      "25\tImage_ImageQuality_StdIntensity_DAPI\tQuality\n",
      "26\tImage_ImageQuality_TotalArea_BetaTubulin\tQuality\n",
      "27\tImage_ImageQuality_TotalArea_DAPI\tQuality\n",
      "28\tImage_ImageQuality_TotalIntensity_BetaTubulin\tQuality\n",
      "29\tImage_ImageQuality_TotalIntensity_DAPI\tQuality\n"
     ]
    }
   ],
   "source": [
    "#make connection\n",
    "db = MySQLdb.connect(\"menchelabdb.int.cemm.at\",\"root\",\"cqsr4h\",\"ImageAnalysisDDI\" )\n",
    "\n",
    "# DEFINE BATCH TO ANALYSE:\n",
    "batch_ = 1\n",
    "\n",
    "\n",
    "# Get features\n",
    "# select all features that correspond to image quality features\n",
    "string = \"select COLUMN_NAME from INFORMATION_SCHEMA.COLUMNS where TABLE_NAME='IsabelCLOUPAC_Per_Image'\"\n",
    "all_features = list(pd.read_sql(string, con=db)['COLUMN_NAME'])\n",
    "\n",
    "i = 0\n",
    "#Remove MetadataFeatures such as height of image, Exclude Mitotracker from ImageQuality (precipitation won't affect segmentation)\n",
    "features = []\n",
    "for f in all_features:\n",
    "    if  'ImageQuality' in f and ('Max' not in f) and ('Mitotracker' not in f):\n",
    "        features.append(f)\n",
    "        print str(i)+'\\t'+f +'\\tQuality'\n",
    "        i+=1\n",
    "    if 'Image' not in f:\n",
    "        #print str(i) + '\\t' + f + '\\tMeasurement'\n",
    "        i += 1\n",
    "features.sort()\n",
    "# DONE selecting proper features\n",
    "\n",
    "\n",
    "# Get ImageQuality values for the individual images\n",
    "string = 'select ImageNumber,' +','.join(features)+' from IsabelCLOUPAC_Per_Image;'\n",
    "ImageQuality = pd.read_sql(string, con=db)\n",
    "\n",
    "ImageQuality.head()\n",
    "db.close()"
   ]
  },
  {
   "cell_type": "markdown",
   "metadata": {},
   "source": [
    "#### Perform Scaler\n",
    "- StandardScaler"
   ]
  },
  {
   "cell_type": "code",
   "execution_count": 11,
   "metadata": {},
   "outputs": [],
   "source": [
    "x = ImageQuality.loc[:, features]\n",
    "x = StandardScaler().fit_transform(x)\n",
    "\n",
    "y = ImageQuality.loc[:,'ImageNumber'].values"
   ]
  },
  {
   "cell_type": "markdown",
   "metadata": {},
   "source": [
    "#### Isolation Random Forest"
   ]
  },
  {
   "cell_type": "code",
   "execution_count": 12,
   "metadata": {},
   "outputs": [
    {
     "name": "stdout",
     "output_type": "stream",
     "text": [
      "Train Random Forest\n",
      "Finished Training\n"
     ]
    }
   ],
   "source": [
    "print 'Train Random Forest'\n",
    "clf = IsolationForest(n_jobs=1,n_estimators=1000, max_samples='auto',behaviour='new', contamination='auto',random_state=1000)\n",
    "clf.fit(x)\n",
    "y_pred_train = clf.predict(x)\n",
    "outliers = y_pred_train\n",
    "print 'Finished Training'"
   ]
  },
  {
   "cell_type": "markdown",
   "metadata": {},
   "source": [
    "#### Make Output"
   ]
  },
  {
   "cell_type": "code",
   "execution_count": 14,
   "metadata": {},
   "outputs": [
    {
     "name": "stdout",
     "output_type": "stream",
     "text": [
      "Number of OK images: 49720\n",
      "Number of bad images: 2312\n",
      "Percent: 0.04\n"
     ]
    }
   ],
   "source": [
    "#make a PCA with ImageQuality Features\n",
    "pca = PCA(n_components=2)\n",
    "principalComponents = pca.fit_transform(x)\n",
    "expl_variance = pca.explained_variance_ratio_\n",
    "\n",
    "# Create a PCA and Output File\n",
    "colors = []\n",
    "ok_image = 0\n",
    "bad_image = 0\n",
    "bad_images = []\n",
    "for o,n in zip(outliers,y):\n",
    "#for length,n in zip(vectorlength,names):\n",
    "\n",
    "    if o == -1:\n",
    "        colors.append('red')\n",
    "        bad_image += 1\n",
    "        bad_images.append(n)\n",
    "    else:\n",
    "        colors.append('grey')\n",
    "        ok_image += 1\n",
    "print 'Number of OK images: %d' %ok_image\n",
    "print 'Number of bad images: %d' %bad_image\n",
    "print 'Percent: %.2f' %(float(bad_image)/(ok_image+bad_image))\n",
    "\n",
    "# Make Output file\n",
    "ensure_dir('../results/IsabelCLOUPAC_Per_Image/BadImages/BadImages.csv')\n",
    "# create file containing all measurements and thresholds\n",
    "fp_out = open('../results/IsabelCLOUPAC_Per_Image/BadImages/BadImages.csv', 'w')\n",
    "fp_out.write('ImageNumber\\n')\n",
    "for b in bad_images:\n",
    "    fp_out.write(str(b)+'\\n')\n",
    "fp_out.close()\n",
    "# DONE making Output file\n",
    "###\n",
    "\n",
    "\n",
    "#Make PCA output\n",
    "fig = plt.figure(figsize = (8,8))\n",
    "ax = fig.add_subplot(1,1,1)\n",
    "ax.set_xlabel('Principal Component 1 [%.2f]' %expl_variance[0], fontsize = 15)\n",
    "ax.set_ylabel('Principal Component 2 [%.2f]' %expl_variance[1], fontsize = 15)\n",
    "ax.set_title('ImageQuality PCA', fontsize = 20)\n",
    "ax.scatter(principalComponents[:,0],principalComponents[:,1],c = colors, alpha=0.1)\n",
    "plt.savefig('../results/IsabelCLOUPAC_Per_Image/BadImages/Overview_PCA.pdf',format='pdf')\n",
    "plt.close()\n",
    "# DONE making PCA output\n",
    "###\n"
   ]
  },
  {
   "cell_type": "code",
   "execution_count": null,
   "metadata": {},
   "outputs": [],
   "source": []
  }
 ],
 "metadata": {
  "kernelspec": {
   "display_name": "Python 2",
   "language": "python",
   "name": "python2"
  },
  "language_info": {
   "codemirror_mode": {
    "name": "ipython",
    "version": 2
   },
   "file_extension": ".py",
   "mimetype": "text/x-python",
   "name": "python",
   "nbconvert_exporter": "python",
   "pygments_lexer": "ipython2",
   "version": "2.7.10"
  }
 },
 "nbformat": 4,
 "nbformat_minor": 2
}
