{
 "cells": [
  {
   "cell_type": "code",
   "execution_count": 1,
   "metadata": {},
   "outputs": [],
   "source": [
    "import MySQLdb\n",
    "import pandas as pd"
   ]
  },
  {
   "cell_type": "code",
   "execution_count": 2,
   "metadata": {},
   "outputs": [
    {
     "name": "stdout",
     "output_type": "stream",
     "text": [
      "267\n"
     ]
    }
   ],
   "source": [
    "\n",
    "cloud_drugs = {}\n",
    "fp = open('../data/CLOUD_drugs.txt')\n",
    "for line in fp:\n",
    "    tmp = line.strip().split('\\t')\n",
    "    cloud_drugs[tmp[1]] = tmp[0]\n",
    "\n",
    "print len(cloud_drugs)"
   ]
  },
  {
   "cell_type": "code",
   "execution_count": 17,
   "metadata": {},
   "outputs": [],
   "source": [
    "db = MySQLdb.connect(\"menchelabdb.int.cemm.at\",\"root\",\"cqsr4h\",\"ImageAnalysisDDI\" )"
   ]
  },
  {
   "cell_type": "code",
   "execution_count": 18,
   "metadata": {},
   "outputs": [
    {
     "name": "stdout",
     "output_type": "stream",
     "text": [
      "-------\n",
      "Problem with: Pyrazinamide\n",
      "-------\n",
      "-------\n",
      "Problem with: Atenolol\n",
      "-------\n",
      "-------\n",
      "Problem with: Thalidomide\n",
      "-------\n",
      "-------\n",
      "Problem with: Teriflunomide (A77 1726)\n",
      "-------\n",
      "-------\n",
      "Problem with: Azacitidine\n",
      "-------\n",
      "-------\n",
      "Problem with: Baclofen\n",
      "-------\n",
      "-------\n",
      "Problem with: Zalcitabine\n",
      "-------\n",
      "-------\n",
      "Problem with: Triflupromazine\n",
      "-------\n",
      "-------\n",
      "Problem with: Trifluoperazine\n",
      "-------\n",
      "-------\n",
      "Problem with: Disulfiram\n",
      "-------\n",
      "-------\n",
      "Problem with: Naltrexone\n",
      "-------\n",
      "-------\n",
      "Problem with: Methyldopa\n",
      "-------\n"
     ]
    },
    {
     "ename": "NameError",
     "evalue": "name 'dp' is not defined",
     "output_type": "error",
     "traceback": [
      "\u001b[0;31m---------------------------------------------------------------------------\u001b[0m",
      "\u001b[0;31mNameError\u001b[0m                                 Traceback (most recent call last)",
      "\u001b[0;32m<ipython-input-18-71df90a1f5d9>\u001b[0m in \u001b[0;36m<module>\u001b[0;34m()\u001b[0m\n\u001b[1;32m     28\u001b[0m         \u001b[0;32mprint\u001b[0m \u001b[0;34m'-------'\u001b[0m\u001b[0;34m\u001b[0m\u001b[0m\n\u001b[1;32m     29\u001b[0m \u001b[0;34m\u001b[0m\u001b[0m\n\u001b[0;32m---> 30\u001b[0;31m \u001b[0mdp\u001b[0m\u001b[0;34m.\u001b[0m\u001b[0mclose\u001b[0m\u001b[0;34m(\u001b[0m\u001b[0;34m)\u001b[0m\u001b[0;34m\u001b[0m\u001b[0m\n\u001b[0m\u001b[1;32m     31\u001b[0m \u001b[0;32mprint\u001b[0m \u001b[0mCLOPAC_CLOUD_IDS\u001b[0m\u001b[0;34m\u001b[0m\u001b[0m\n",
      "\u001b[0;31mNameError\u001b[0m: name 'dp' is not defined"
     ]
    }
   ],
   "source": [
    "CLOPAC_to_CLOUD_IDS = {}\n",
    "CLOPAC_CLOUD_IDS = []\n",
    "for cloud_name in cloud_drugs.keys():\n",
    "    #print cloud_name\n",
    "    string = 'select Image_Metadata_ID_A,Image_Metadata_Name_A from IsabelCLOUPAC_Per_Image where Image_Metadata_Name_A like \"'+cloud_name+'\" group by (Image_Metadata_ID_A);'\n",
    "    \n",
    "    found_CLOUPAC = pd.read_sql(string, con=db)\n",
    "    \n",
    "    if len(found_CLOUPAC) == 1:\n",
    "    \n",
    "        CLOPAC_CLOUD_IDS.append(found_CLOUPAC['Image_Metadata_ID_A'].values[0])\n",
    "        CLOPAC_to_CLOUD_IDS[cloud_drugs[cloud_name]] = found_CLOUPAC['Image_Metadata_ID_A'].values[0]\n",
    "    elif len(found_CLOUPAC) > 1:\n",
    "\n",
    "        valid_ids = found_CLOUPAC['Image_Metadata_ID_A'].values\n",
    "        valid_ids = [x for x in valid_ids if 'CLOUD' in x]\n",
    "        \n",
    "        if len(valid_ids) ==1:\n",
    "            CLOPAC_to_CLOUD_IDS[cloud_drugs[cloud_name]] = valid_ids[0]\n",
    "            CLOPAC_CLOUD_IDS.append(valid_ids[0])\n",
    "        else:\n",
    "            print '-------'\n",
    "            print 'Problem with: ' + cloud_name \n",
    "            print '-------'\n",
    "    else:\n",
    "        print '-------'\n",
    "        print 'Problem with: ' + cloud_name \n",
    "        print '-------'\n",
    "\n",
    "dp.close()\n",
    "print CLOPAC_CLOUD_IDS"
   ]
  },
  {
   "cell_type": "markdown",
   "metadata": {},
   "source": [
    "Pyrazinamide = P7136 (Pyrazinecarboxamide)  \n",
    "Atenolol = A7655, A143 ((+/-)-Atenolol and S(-)-Atenolol)  \n",
    "Thalidomide = T144 ((+/-)-Thalidomide)  \n",
    "Teriflunomide (A77 1726) = SMl0936 (Teriflunomide)  \n",
    "Azacitidine = A2385 (5-azacytidine)  \n",
    "Lumefantrine = L5420, CLOUD130 (Lumefantrine)  \n",
    "Baclofen = B5399 ((+/-)-Baclofen)  \n",
    "Zalcitabine = D5782 (2';3'-dideoxycytidine)  \n",
    "Triflupromazine = T2896 (Triflupromazine)  \n",
    "Succinylcholine Chloride = S8251, CLOUD261 (Succinylcholine chloride)  \n",
    "Trifluoperazine = T8516 (Trifluoperazine dihydrochloride)  \n",
    "Disulfiram = T1132  (Tetraethylthiuram disulfide)\n",
    "Naltrexone = N3136 (Naltrexone hydrochloride)  \n",
    "Carbachol = C4382, CLOUD012 (Carbachol)  \n",
    "Methyldopa = D1507 (L-3;4-Dihydroxyphenylalanine methyl ester hydrochloride)  "
   ]
  },
  {
   "cell_type": "code",
   "execution_count": 19,
   "metadata": {},
   "outputs": [
    {
     "name": "stdout",
     "output_type": "stream",
     "text": [
      "255\n"
     ]
    }
   ],
   "source": [
    "print len(CLOPAC_CLOUD_IDS)"
   ]
  },
  {
   "cell_type": "code",
   "execution_count": 20,
   "metadata": {},
   "outputs": [],
   "source": [
    "# all possibilities\n",
    "#CLOPAC_CLOUD_IDS.extend(['P7136','A7655','A143','T144','SMl0936','A2385','L5420','CLOUD130','B5399','D5782','T2896','S8251','CLOUD261','T8516','N3136','C4382','CLOUD012','D1507'])\n",
    "\n",
    "CLOPAC_CLOUD_IDS.extend(['P7136','A7655','T144','SMl0936','A2385','B5399','D5782','T2896','T8516','T1132','N3136','D1507'])\n"
   ]
  },
  {
   "cell_type": "code",
   "execution_count": 21,
   "metadata": {},
   "outputs": [
    {
     "name": "stdout",
     "output_type": "stream",
     "text": [
      "267\n"
     ]
    }
   ],
   "source": [
    "print len(CLOPAC_CLOUD_IDS)"
   ]
  },
  {
   "cell_type": "code",
   "execution_count": 22,
   "metadata": {},
   "outputs": [],
   "source": [
    "fp_out = open('../results/IsabelCLOUPAC_Per_Image/List_of_CLOUD_Drugs/List_of_usable_IDs_267.csv','w')\n",
    "for CLOUD_ID in CLOPAC_CLOUD_IDS:\n",
    "    fp_out.write(CLOUD_ID+'\\n')\n",
    "fp_out.close()"
   ]
  },
  {
   "cell_type": "code",
   "execution_count": null,
   "metadata": {},
   "outputs": [],
   "source": []
  }
 ],
 "metadata": {
  "kernelspec": {
   "display_name": "Python 2",
   "language": "python",
   "name": "python2"
  },
  "language_info": {
   "codemirror_mode": {
    "name": "ipython",
    "version": 2
   },
   "file_extension": ".py",
   "mimetype": "text/x-python",
   "name": "python",
   "nbconvert_exporter": "python",
   "pygments_lexer": "ipython2",
   "version": "2.7.10"
  }
 },
 "nbformat": 4,
 "nbformat_minor": 2
}
