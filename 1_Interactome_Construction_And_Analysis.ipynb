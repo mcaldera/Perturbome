{
 "cells": [
  {
   "cell_type": "markdown",
   "metadata": {},
   "source": [
    "# Interactome Construction and Analysis\n",
    "Get data from local database and create the interactome"
   ]
  },
  {
   "cell_type": "code",
   "execution_count": 4,
   "metadata": {},
   "outputs": [],
   "source": [
    "#Include libraries\n",
    "import MySQLdb\n",
    "import networkx as nx\n",
    "from matplotlib import pylab as plt\n",
    "import numpy as np\n",
    "\n",
    "%matplotlib inline  "
   ]
  },
  {
   "cell_type": "code",
   "execution_count": 5,
   "metadata": {},
   "outputs": [],
   "source": [
    "def get_ppi(lcc):\n",
    "    '''\n",
    "    Main function to extract the PPI from our local database.\n",
    "    Connect to GenesGO Database and extract PPI edges from \n",
    "    \n",
    "    '''\n",
    "    # Open database connection\n",
    "    db = MySQLdb.connect(\"<Server>\", \"readonly\", \"<Password>\", \"GenesGO\")\n",
    "    # prepare a cursor object using cursor() method\n",
    "    cursor = db.cursor()\n",
    "\n",
    "    sql = \"\"\"\n",
    "            SELECT\n",
    "            e.entrez_1,\n",
    "            e.entrez_2,\n",
    "            g1.Locus_Type,\n",
    "            g1.Locus_Group,\n",
    "            g2.Locus_Type,\n",
    "            g2.Locus_Group\n",
    "            FROM networks.PPI_hippie2017 e\n",
    "            INNER JOIN GenesGO.hgnc_complete g1 ON e.entrez_1 = g1.Entrez_Gene_ID_NCBI\n",
    "            INNER JOIN GenesGO.hgnc_complete g2 ON e.entrez_2 = g2.Entrez_Gene_ID_NCBI\n",
    "            WHERE\n",
    "                (e.author != '' AND e.entrez_1 != e.entrez_2\n",
    "                    AND g1.Locus_Type = 'T cell receptor gene' AND g2.Locus_Type = 'T cell receptor gene')                     # 0 links   \n",
    "                OR (e.author != '' AND e.entrez_1 != e.entrez_2\n",
    "                    AND g1.Locus_Type = 'immunoglobulin gene' AND g2.Locus_Type = 'immunoglobulin gene')              # 4 links   \n",
    "                OR (e.author != '' AND e.entrez_1 != e.entrez_2\n",
    "                    AND g1.Locus_Type = 'immunoglobulin gene' AND g2.Locus_Type = 'T cell receptor gene')             # 0 links\n",
    "                OR (e.author != '' AND e.entrez_1 != e.entrez_2\n",
    "                    AND g1.Locus_Type = 'T cell receptor gene' AND g2.Locus_Type = 'immunoglobulin gene')                 # 0 links        \n",
    "                OR (e.author != '' AND e.entrez_1 != e.entrez_2\n",
    "                    AND g1.Locus_Type = 'T cell receptor gene' AND g2.Locus_Type = 'gene with protein product')       # 17 links        \n",
    "                OR (e.author != '' AND e.entrez_1 != e.entrez_2\n",
    "                    AND g1.Locus_Type = 'gene with protein product' AND g2.Locus_Type = 'T cell receptor gene')       # 1 links        \n",
    "                OR (e.author != '' AND e.entrez_1 != e.entrez_2\n",
    "                    AND g1.Locus_Type = 'immunoglobulin gene' AND g2.Locus_Type = 'gene with protein product')        # 115 links        \n",
    "                OR (e.author != '' AND e.entrez_1 != e.entrez_2\n",
    "                    AND g1.Locus_Type = 'gene with protein product' AND g2.Locus_Type = 'immunoglobulin gene')        # 295 links   \n",
    "                OR (e.author != '' AND e.entrez_1 != e.entrez_2\n",
    "                    AND g1.Locus_Type = 'gene with protein product' AND g2.Locus_Type = 'gene with protein product')  # 309602 links \n",
    "\n",
    "\n",
    "        \"\"\"\n",
    "    try:\n",
    "        # execute SQL query\n",
    "        cursor.execute(sql)\n",
    "        data = cursor.fetchall()\n",
    "\n",
    "    except:\n",
    "        print('SQL error')\n",
    "\n",
    "    db.close()\n",
    "\n",
    "\n",
    "    \n",
    "    l_nodes = []\n",
    "    for x in data:\n",
    "        l_nodes.append(x[0])\n",
    "        l_nodes.append(x[1])\n",
    "    l_nodes = list(set(l_nodes))\n",
    "\n",
    "    \n",
    "    \n",
    "    G = nx.Graph()\n",
    "    G.add_nodes_from(l_nodes)\n",
    "    \n",
    "    for x in data:\n",
    "        G.add_edge(x[0], x[1])\n",
    "\n",
    "    print 'PPI All:'\n",
    "    print 'Number of genes found: %d' %len(G.nodes())\n",
    "    print 'Number of interactions found: %d' %len(G.edges())\n",
    "    \n",
    "    if lcc == 1:\n",
    "        Nl_l = sorted(nx.connected_components(G))  # generates list of components node lists\n",
    "        l = [len(x) for x in Nl_l]  # returns list of length of node lists\n",
    "        idx = l.index(max(l))  # find the index of the maximal length i.e. lcc\n",
    "        Nlcc = Nl_l[idx]  # pin down lcc\n",
    "        G_lcc = G.subgraph(Nlcc)  # extract lcc graph\n",
    "        G = G_lcc.copy()\n",
    "        \n",
    "        print 'PPI Only Largest Connected Component:'\n",
    "        print 'Number of genes found: %d' %len(G.nodes())\n",
    "        print 'Number of interactions found: %d' %len(G.edges())\n",
    "        \n",
    "    else:\n",
    "        pass\n",
    "\n",
    "    return G"
   ]
  },
  {
   "cell_type": "code",
   "execution_count": 6,
   "metadata": {
    "scrolled": true,
    "collapsed": false
   },
   "outputs": [
    {
     "name": "stdout",
     "output_type": "stream",
     "text": [
      "PPI All:\n",
      "Number of genes found: 16393\n",
      "Number of interactions found: 309365\n",
      "PPI Only Largest Connected Component:\n",
      "Number of genes found: 16376\n",
      "Number of interactions found: 309355\n"
     ]
    }
   ],
   "source": [
    "#1 = get only biggest LCC; Remove single not connected nodes\n",
    "PPI = get_ppi(1)\n",
    "nx.write_gml(PPI, '../results/Interactome_Construction_And_Analysis/Human_Interactome.gml')"
   ]
  },
  {
   "cell_type": "markdown",
   "metadata": {},
   "source": [
    "## Degree Distributions"
   ]
  },
  {
   "cell_type": "code",
   "execution_count": 7,
   "metadata": {},
   "outputs": [],
   "source": [
    "#Extract degrees from the PPI\n",
    "degrees_PPI = [x[1] for x in  nx.degree(PPI)]\n",
    "\n",
    "#Get the unique PPI degree steps\n",
    "degrees_PPI_unique = list(set(degrees_PPI))\n",
    "degrees_PPI_unique.sort()\n",
    "\n",
    "#degree for x axis (sorted from small to biggest)\n",
    "degreesPPI = []\n",
    "\n",
    "#Normal distribution (i.e. P(k = x))\n",
    "degreeDistributionPPI = []\n",
    "\n",
    "#Cumulative distribution (i.e. P(k > x))\n",
    "cumulativedegreeDistributionPPI = []\n",
    "for degree in degrees_PPI_unique:\n",
    "    degreesPPI.append(degree)\n",
    "    degreeDistributionPPI.append(degrees_PPI.count(degree)/float(len(degrees_PPI)))\n",
    "    cumulativedegreeDistributionPPI.append(len([x for x in degrees_PPI if x >= degree]) / float(len(degrees_PPI)))"
   ]
  },
  {
   "cell_type": "markdown",
   "metadata": {},
   "source": [
    "#### Normal degree distribution (log/log scale)"
   ]
  },
  {
   "cell_type": "code",
   "execution_count": 8,
   "metadata": {},
   "outputs": [
    {
     "name": "stderr",
     "output_type": "stream",
     "text": [
      "/cm/shared/apps/python/2.7.13/lib/python2.7/site-packages/matplotlib/axes/_base.py:3157: UserWarning: Attempted to set non-positive xlimits for log-scale axis; invalid limits will be ignored.\n",
      "  'Attempted to set non-positive xlimits for log-scale axis; '\n"
     ]
    },
    {
     "data": {
      "image/png": "[encoded data removed]",
      "text/plain": [
       "<Figure size 432x288 with 1 Axes>"
      ]
     },
     "metadata": {
      "needs_background": "light"
     },
     "output_type": "display_data"
    }
   ],
   "source": [
    "plt.scatter(degreesPPI, degreeDistributionPPI, c='#D2323C', alpha=0.4)\n",
    "plt.xscale('log')\n",
    "plt.yscale('log')\n",
    "plt.xlabel('Degree', fontsize=14)\n",
    "plt.ylabel('P(k)', fontsize=14)\n",
    "plt.xticks(fontsize=12, rotation=0)\n",
    "plt.yticks(fontsize=12, rotation=0)\n",
    "plt.ylim(10 ** -4.1, 1)\n",
    "plt.xlim(0,1000)\n",
    "#plt.title('Degree Distribution')\n",
    "plt.savefig('../results/Interactome_Construction_And_Analysis/Scatter_DegreeDistribution_LogLog.pdf',format='pdf')\n",
    "plt.show()\n",
    "plt.close()"
   ]
  },
  {
   "cell_type": "markdown",
   "metadata": {},
   "source": [
    "#### Cumulative degree distribution (log/log scale)"
   ]
  },
  {
   "cell_type": "code",
   "execution_count": 9,
   "metadata": {},
   "outputs": [
    {
     "data": {
      "image/png": "[encoded data removed]",
      "text/plain": [
       "<Figure size 432x288 with 1 Axes>"
      ]
     },
     "metadata": {
      "needs_background": "light"
     },
     "output_type": "display_data"
    }
   ],
   "source": [
    "plt.scatter(degreesPPI, cumulativedegreeDistributionPPI, c='#D2323C', alpha=0.4)\n",
    "plt.xscale('log')\n",
    "plt.yscale('log')\n",
    "plt.xlabel('Degree', fontsize=14)\n",
    "plt.ylabel('P(x >= k)', fontsize=14)\n",
    "plt.xticks(fontsize=12, rotation=0)\n",
    "plt.yticks(fontsize=12, rotation=0)\n",
    "plt.ylim(10 ** -4, 1)\n",
    "#plt.title('Cumulative Degree Distribution')\n",
    "plt.savefig('../results/Interactome_Construction_And_Analysis/Scatter_CumulativeDegreeDistribution_LogLog.pdf',format='pdf')\n",
    "plt.show()\n",
    "plt.close()"
   ]
  },
  {
   "cell_type": "markdown",
   "metadata": {},
   "source": [
    "## Overall PPI stats"
   ]
  },
  {
   "cell_type": "code",
   "execution_count": null,
   "metadata": {},
   "outputs": [
    {
     "name": "stdout",
     "output_type": "stream",
     "text": [
      "Number of nodes N: 16376\n",
      "Number of edges M: 309355\n",
      "Mean degree <k>: 37.78\n",
      "Mean clustering <c>: 0.11\n"
     ]
    }
   ],
   "source": [
    "print 'Number of nodes N: %d' %len(PPI.nodes())\n",
    "print 'Number of edges M: %d' %len(PPI.edges())\n",
    "print 'Mean degree <k>: %.2f' %np.mean(degrees_PPI)\n",
    "print 'Mean clustering <c>: %.2f' %nx.average_clustering(PPI)\n",
    "print 'Mean average shortest path <l>: %.2f' %nx.average_shortest_path_length(PPI)\n",
    "print 'Diameter dmax: %.2f' %nx.diameter(PPI)"
   ]
  },
  {
   "cell_type": "code",
   "execution_count": null,
   "metadata": {},
   "outputs": [],
   "source": []
  }
 ],
 "metadata": {
  "kernelspec": {
   "display_name": "Python 2",
   "language": "python",
   "name": "python2"
  },
  "language_info": {
   "codemirror_mode": {
    "name": "ipython",
    "version": 2
   },
   "file_extension": ".py",
   "mimetype": "text/x-python",
   "name": "python",
   "nbconvert_exporter": "python",
   "pygments_lexer": "ipython2",
   "version": "2.7.10"
  }
 },
 "nbformat": 4,
 "nbformat_minor": 2
}
