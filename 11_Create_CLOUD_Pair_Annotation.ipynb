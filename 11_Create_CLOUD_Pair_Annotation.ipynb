{
 "cells": [
  {
   "cell_type": "markdown",
   "metadata": {},
   "source": [
    "# Create the CLOUD annotation file\n",
    "### Drug Pairs\n",
    "Create the annotation file for the ca. 35k CLOUD pairs e.g. if two drugs have overlapping transporters, PPI distances etc.  \n",
    "Feature types and data sources:  \n",
    "\n",
    "1.) Chemical Similarity  \n",
    "2.) PPI Distances (various metrics)  \n",
    "3.) MsigDB  \n",
    "4.) KeGG  \n",
    "5.) Sider, Offsides and TwoSides (Side effects)  \n",
    "6.) ATC  \n",
    "7.) DrugBank (i.e. transporters, enzymes, carriers)   \n",
    "8.) GO  \n",
    "9.) Disease\n",
    "10.) Create final file\n",
    "\n",
    "--------------\n",
    "\n",
    "### Single CLOUD drugs\n",
    "1.) Targets (i.e. num targets)  \n",
    "2.) PPI  \n",
    "3.) MsigDB  \n",
    "4.) KeGG  \n",
    "5.) GO  \n",
    "6.) Sideeffects  \n",
    "7.) ATC  \n",
    "8.) Drugbank (i.e. transporters, enzymes, carriers)  \n",
    "9.) Disease  \n",
    "10.) Create final file\n"
   ]
  },
  {
   "cell_type": "code",
   "execution_count": 1,
   "metadata": {},
   "outputs": [],
   "source": [
    "import os\n",
    "import networkx as nx\n",
    "import gene2terms_addupstream as GO\n",
    "import numpy as np"
   ]
  },
  {
   "cell_type": "code",
   "execution_count": 2,
   "metadata": {},
   "outputs": [
    {
     "name": "stdout",
     "output_type": "stream",
     "text": [
      "Number of drug pairs: 35511\n"
     ]
    }
   ],
   "source": [
    "fp = open('../data/Create_CLOUD_Pair_Annotation/Annotations/CLOUD_All_Targets.csv','r')\n",
    "fp.next()\n",
    "all_Clouds = set()\n",
    "CLOUD_Targets = {}\n",
    "for line in fp:\n",
    "    tmp = line.strip().split(',')\n",
    "    all_Clouds.add(tmp[0])\n",
    "    #CLOUD_Targets[tmp[0]] = tmp[2].split(';')\n",
    "fp.close()    \n",
    "all_Clouds = list(all_Clouds)\n",
    "all_Clouds.sort()\n",
    "print 'Number of drug pairs: %d' %(len(all_Clouds)*(len(all_Clouds)-1)/2)\n",
    "\n",
    "\n",
    "\n",
    "DrugBank_To_CLOUD = {}\n",
    "CLOUD_To_DrugBank = {}\n",
    "fp = open('../data/Create_CLOUD_Pair_Annotation/Annotations/CLOUD_DrugBank_PubChem_Chembl.csv')\n",
    "fp.next()\n",
    "for line in fp:\n",
    "    tmp = line.strip().split(',')\n",
    "    DrugBank_To_CLOUD[tmp[1]] = tmp[0]\n",
    "    CLOUD_To_DrugBank[tmp[0]] = tmp[1]\n",
    "fp.close()\n",
    "\n",
    "\n",
    "\n",
    "#####\n",
    "## Standard CLOUD targets = Combined Filtered\n",
    "CLOUD_Targets = {}\n",
    "fp = open('../data/Create_CLOUD_Pair_Annotation/TargetSets/CLOUD_to_TargetsSplit.csv')\n",
    "fp.next()\n",
    "for line in fp:\n",
    "    tmp = line.strip().split(',')\n",
    "    CLOUD_Targets[tmp[0]] = [x for x in tmp[1].split(';') if x != '']"
   ]
  },
  {
   "cell_type": "markdown",
   "metadata": {},
   "source": [
    "### 1. Chemical Similarity"
   ]
  },
  {
   "cell_type": "code",
   "execution_count": 3,
   "metadata": {},
   "outputs": [
    {
     "name": "stdout",
     "output_type": "stream",
     "text": [
      "Finished Loading Chemical Similarity\n"
     ]
    }
   ],
   "source": [
    "#Load previously computed chemical similarities\n",
    "Chemical_Similarity = {}\n",
    "fp = open('../data/Create_CLOUD_Pair_Annotation/Annotations/PairwiseChemicalSimilarity.csv')\n",
    "fp.next()\n",
    "for line in fp:\n",
    "    tmp = line.strip().split(',')\n",
    "    Chemical_Similarity[tmp[0]+','+tmp[1]] = float(tmp[2])\n",
    "\n",
    "#Put into final dictionary, ad 'nan' if not possible chemical similarity e.g. for a biologic\n",
    "chemSim_final = {}\n",
    "for d1 in all_Clouds:\n",
    "    for d2 in all_Clouds:\n",
    "        if d1 < d2:\n",
    "            if Chemical_Similarity.has_key(d1+','+d2):\n",
    "                chemSim_final[d1+','+d2] = Chemical_Similarity[d1+','+d2]\n",
    "            elif Chemical_Similarity.has_key(d2+','+d1):\n",
    "                chemSim_final[d1+','+d2] = Chemical_Similarity[d2+','+d1]\n",
    "            else:\n",
    "                chemSim_final[d1+','+d2] = 'nan'\n",
    "print 'Finished Loading Chemical Similarity'"
   ]
  },
  {
   "cell_type": "markdown",
   "metadata": {},
   "source": [
    "### 2. PPI Distances\n",
    "Metrics: D_AB, Mean_AB and S_AB  \n",
    "TargetSet: DrugBank, PubChem, Chembl, Combined (filtered, non-filtered)"
   ]
  },
  {
   "cell_type": "code",
   "execution_count": 4,
   "metadata": {},
   "outputs": [
    {
     "name": "stdout",
     "output_type": "stream",
     "text": [
      "Finished Loading PPI distances\n"
     ]
    }
   ],
   "source": [
    "targetLists = [f for f in os.listdir('../data/Create_CLOUD_Pair_Annotation/Annotations/PPI_Distances/') if os.path.isfile(os.path.join('../data/Create_CLOUD_Pair_Annotation/Annotations/PPI_Distances/', f)) and '.csv' in f]\n",
    "distance_metric = {'D_AB':4, 'S_AB':5, 'Min_AB':6, 'Mean_AB':7}\n",
    "\n",
    "#PPI_Final contains 3 metrics and 8 targets sets (3 sources, 1 combined and all 4 once filtered once complete) ==> 24 distances\n",
    "PPI_final = {}\n",
    "\n",
    "for metric in distance_metric.keys():\n",
    "    PPI_final[metric] = {}\n",
    "    for targetList in targetLists:\n",
    "\n",
    "        #Go through all drug pairs and add the corresponding value to the result dictionary\n",
    "        fp = open('../results/CheckBestTargetSet/' + targetList,'r')\n",
    "        fp.next()\n",
    "        drugpairs = {}\n",
    "        for line in fp:\n",
    "            tmp = line.strip().split(',')\n",
    "            value = tmp[distance_metric[metric]]\n",
    "            \n",
    "            if value == \"None\":\n",
    "                value = 'nan'\n",
    "            \n",
    "            drugpairs[tmp[0]+','+tmp[1]] = value\n",
    "            drugpairs[tmp[1]+','+tmp[0]] = value\n",
    "\n",
    "        PPI_final[metric][targetList.split('.')[0]] = drugpairs\n",
    "print 'Finished Loading PPI distances'\n",
    "\n"
   ]
  },
  {
   "cell_type": "markdown",
   "metadata": {},
   "source": [
    "### 3. MsigDB"
   ]
  },
  {
   "cell_type": "code",
   "execution_count": 5,
   "metadata": {},
   "outputs": [
    {
     "name": "stdout",
     "output_type": "stream",
     "text": [
      "MsigD_MF.gmt\n",
      "MsigD_KeGG.gmt\n",
      "MsigD_BP.gmt\n",
      "MsigD_CC.gmt\n",
      "Msig_ChemGen_Perturbation.gmt\n",
      "Finished Loading msigDB annotations\n"
     ]
    }
   ],
   "source": [
    "msigDB_Final = {}\n",
    "\n",
    "msigDBFiles = [f for f in os.listdir('../data/Create_CLOUD_Pair_Annotation/Annotations/MSigDB/') if os.path.isfile(os.path.join('../data/Create_CLOUD_Pair_Annotation/Annotations/MSigDB/', f)) and '.gmt' in f]\n",
    "\n",
    "for file in msigDBFiles:\n",
    "    print file\n",
    "    dataname = file.split('.')[0]\n",
    "    \n",
    "\n",
    "    \n",
    "    #Find the gene to perturbation associated (one gene can have various associated perturbations)\n",
    "    fp = open('../data/Create_CLOUD_Pair_Annotation/Annotations/MSigDB/' + file,'r')\n",
    "    gene_to_association = {}\n",
    "    for line in fp:\n",
    "        tmp = line.strip().split('\\t')\n",
    "\n",
    "        for gene in [x for x in tmp[2:] if x != '']:\n",
    "            if gene_to_association.has_key(gene):\n",
    "                gene_to_association[gene].append(tmp[0])\n",
    "            else:\n",
    "                gene_to_association[gene] = [tmp[0]]\n",
    "    fp.close()\n",
    "    \n",
    "    \n",
    "    #print gene_to_association\n",
    "\n",
    "    cloud_to_associations = {}\n",
    "    for cloud in all_Clouds:\n",
    "        cloud_to_associations[cloud] = []\n",
    "        for gene in CLOUD_Targets[cloud]:\n",
    "            if gene_to_association.has_key(gene):\n",
    "                cloud_to_associations[cloud].extend(gene_to_association[gene])\n",
    "    \n",
    "\n",
    "    \n",
    "    drugpairs = {}\n",
    "    drugpairs_num = {}\n",
    "    drugpairs_hasOverlap = {}\n",
    "    for d1 in all_Clouds:\n",
    "        \n",
    "        for d2 in all_Clouds:\n",
    "            if d1 < d2:\n",
    "                #print d1\n",
    "                #print d2\n",
    "                #print CLOUD_Targets[d1]\n",
    "                #print CLOUD_Targets[d2]\n",
    "                \n",
    "                \n",
    "                associations1 = set(cloud_to_associations[d1])\n",
    "                associations2 = set(cloud_to_associations[d2])\n",
    "                #print associations1\n",
    "                #print associations2\n",
    "                #print '--'\n",
    "                #print associations1.union(associations2)\n",
    "                union = float(len(associations1.union(associations2)))\n",
    "                #print union\n",
    "                if union == 0.0:\n",
    "                    result = 0\n",
    "                else:\n",
    "                    result = len(associations1.intersection(associations2))/union\n",
    "                    #print result\n",
    "                drugpairs[d1+','+d2] = result\n",
    "                #print '--'\n",
    "                \n",
    "                drugpairs_num[d1+','+d2] = len(associations1.intersection(associations2))\n",
    "                \n",
    "                if len(associations1.intersection(associations2)) > 0:\n",
    "                    drugpairs_hasOverlap[d1+','+d2] = 1\n",
    "                else:\n",
    "                    drugpairs_hasOverlap[d1+','+d2] = 0\n",
    "        \n",
    "     \n",
    "    msigDB_Final[dataname] = drugpairs\n",
    "    msigDB_Final[dataname+'_num'] = drugpairs_num\n",
    "    msigDB_Final[dataname+'_Overlap'] = drugpairs_hasOverlap\n",
    "print 'Finished Loading msigDB annotations'"
   ]
  },
  {
   "cell_type": "code",
   "execution_count": 6,
   "metadata": {},
   "outputs": [
    {
     "name": "stdout",
     "output_type": "stream",
     "text": [
      "['MsigD_BP', 'Msig_ChemGen_Perturbation_Overlap', 'Msig_ChemGen_Perturbation_num', 'MsigD_CC_num', 'MsigD_MF_Overlap', 'Msig_ChemGen_Perturbation', 'MsigD_BP_Overlap', 'MsigD_BP_num', 'MsigD_CC_Overlap', 'MsigD_MF', 'MsigD_KeGG_Overlap', 'MsigD_MF_num', 'MsigD_CC', 'MsigD_KeGG_num', 'MsigD_KeGG']\n"
     ]
    }
   ],
   "source": [
    "print msigDB_Final.keys()"
   ]
  },
  {
   "cell_type": "markdown",
   "metadata": {},
   "source": [
    "### 4. KeGG"
   ]
  },
  {
   "cell_type": "code",
   "execution_count": 7,
   "metadata": {},
   "outputs": [
    {
     "name": "stdout",
     "output_type": "stream",
     "text": [
      "Finished KeGG\n"
     ]
    }
   ],
   "source": [
    "CLOUD_to_Kegg = {'Direct':{},'Indirect':{}}\n",
    "fp = open('../data/Create_CLOUD_Pair_Annotation/Annotations/CLOUD_to_KeGG_Pathways.csv')\n",
    "fp.next()\n",
    "for line in fp:\n",
    "    tmp = line.strip().split(',')\n",
    "    CLOUD_to_Kegg['Direct'][tmp[0]] = [x for x in tmp[2].split(';') if x != '']\n",
    "    CLOUD_to_Kegg['Indirect'][tmp[0]] = [x for x in tmp[3].split(';') if x != '']\n",
    "\n",
    "    \n",
    "KeGG_final = {}\n",
    "for associationType in CLOUD_to_Kegg:\n",
    "    \n",
    "    drugpairs = {}\n",
    "    drugpairs_num = {}\n",
    "    drugpairs_hasOverlap = {}\n",
    "    for d1 in all_Clouds:\n",
    "        for d2 in all_Clouds:\n",
    "            if d1 < d2:\n",
    "                \n",
    "                associations1 = set(CLOUD_to_Kegg[associationType][d1])\n",
    "                associations2 = set(CLOUD_to_Kegg[associationType][d2])\n",
    "                \n",
    "                union = float(len(associations1.union(associations2)))\n",
    "\n",
    "                if union == 0.0:\n",
    "                    result = 0\n",
    "                else:\n",
    "                    result = len(associations1.intersection(associations2))/union\n",
    "                    \n",
    "                drugpairs[d1+','+d2] = result\n",
    "                \n",
    "                drugpairs_num[d1+','+d2] = len(associations1.intersection(associations2))\n",
    "                \n",
    "                if len(associations1.intersection(associations2)) > 0:\n",
    "                    drugpairs_hasOverlap[d1+','+d2] = 1\n",
    "                else:\n",
    "                    drugpairs_hasOverlap[d1+','+d2] = 0\n",
    "                \n",
    "    KeGG_final[associationType] = drugpairs\n",
    "    KeGG_final[associationType+'_num'] = drugpairs_num\n",
    "    KeGG_final[associationType+'_Overlap'] = drugpairs_hasOverlap\n",
    "    \n",
    "print 'Finished KeGG'"
   ]
  },
  {
   "cell_type": "markdown",
   "metadata": {},
   "source": [
    "### 5. Side Effects (Sider, Offsides, TwoSides)"
   ]
  },
  {
   "cell_type": "code",
   "execution_count": 8,
   "metadata": {},
   "outputs": [],
   "source": [
    "SideEffect_final = {}\n",
    "\n",
    "\n",
    "SideEffectFiles = [f for f in os.listdir('../data/Create_CLOUD_Pair_Annotation/Annotations/Side_Effects/') if os.path.isfile(os.path.join('../data/Create_CLOUD_Pair_Annotation/Annotations/Side_Effects/', f)) and '.csv' in f]\n",
    "\n",
    "CLOUD_To_SideEffects = {}\n",
    "for file in SideEffectFiles:\n",
    "    name = file.split('.')[0]\n",
    "    CLOUD_To_SideEffects[name] = {}\n",
    "    fp = open('../data/Create_CLOUD_Pair_Annotation/Annotations/Side_Effects/' + file,'r')\n",
    "    fp.next()\n",
    "    for line in fp:\n",
    "        tmp = line.strip().split(',')\n",
    "        CLOUD_To_SideEffects[name][tmp[0]] = [x for x in tmp[2].split(';') if x != '']\n",
    "    fp.close()\n",
    "    \n",
    "    \n",
    "\n",
    "for associationType in CLOUD_To_SideEffects:\n",
    "    drugpairs = {}\n",
    "    drugpairs_num = {}\n",
    "    drugpairs_hasOverlap = {}\n",
    "    for d1 in all_Clouds:\n",
    "        for d2 in all_Clouds:\n",
    "            if d1 < d2:\n",
    "                \n",
    "                associations1 = set(CLOUD_To_SideEffects[associationType][d1])\n",
    "                associations2 = set(CLOUD_To_SideEffects[associationType][d2])\n",
    "                \n",
    "                union = float(len(associations1.union(associations2)))\n",
    "\n",
    "                if union == 0.0:\n",
    "                    result = 0\n",
    "                else:\n",
    "                    result = len(associations1.intersection(associations2))/union\n",
    "                    \n",
    "                drugpairs[d1+','+d2] = result\n",
    "                drugpairs_num[d1+','+d2] = len(associations1.intersection(associations2))\n",
    "                \n",
    "                \n",
    "                if len(associations1.intersection(associations2)) > 0:\n",
    "                    drugpairs_hasOverlap[d1+','+d2] = 1\n",
    "                else:\n",
    "                    drugpairs_hasOverlap[d1+','+d2] = 0\n",
    "                \n",
    "                \n",
    "    SideEffect_final[associationType] = drugpairs\n",
    "    SideEffect_final[associationType+'_num'] = drugpairs_num\n",
    "    SideEffect_final[associationType+'_Overlap'] = drugpairs_hasOverlap"
   ]
  },
  {
   "cell_type": "code",
   "execution_count": 9,
   "metadata": {},
   "outputs": [
    {
     "name": "stdout",
     "output_type": "stream",
     "text": [
      "Finished side effects\n"
     ]
    }
   ],
   "source": [
    "\n",
    "SideEffectNetworks = [f for f in os.listdir('../data/Create_CLOUD_Pair_Annotation/Annotations/Side_Effects/SideEffectNetworks/') if os.path.isfile(os.path.join('../data/Create_CLOUD_Pair_Annotation/Annotations/Side_Effects/SideEffectNetworks/', f)) and '.gml' in f]\n",
    "\n",
    "\n",
    "CLOUD_To_SideEffects_networks = {}\n",
    "for network in SideEffectNetworks:\n",
    "    name = network.split('.')[0]\n",
    "    CLOUD_To_SideEffects_networks[name] = {}\n",
    "    Network = nx.read_gml('../data/Create_CLOUD_Pair_Annotation/Annotations/Side_Effects/SideEffectNetworks/' + network,'r')\n",
    "    \n",
    "    \n",
    "    drugpairs = {}\n",
    "    for d1 in all_Clouds:\n",
    "        for d2 in all_Clouds:\n",
    "            if d1 < d2:\n",
    "                drugBank_ID1 = CLOUD_To_DrugBank[d1]\n",
    "                drugBank_ID2 = CLOUD_To_DrugBank[d2]\n",
    "            \n",
    "                if Network.has_edge(drugBank_ID1,drugBank_ID2):\n",
    "                    drugpairs[d1+','+d2] = 1\n",
    "                else:\n",
    "                    drugpairs[d1+','+d2] = 0\n",
    "\n",
    "    SideEffect_final[name] = drugpairs\n",
    "                    \n",
    "    \n",
    "print 'Finished side effects'\n",
    "    "
   ]
  },
  {
   "cell_type": "markdown",
   "metadata": {},
   "source": [
    "### 6. ATC"
   ]
  },
  {
   "cell_type": "code",
   "execution_count": 10,
   "metadata": {},
   "outputs": [
    {
     "name": "stdout",
     "output_type": "stream",
     "text": [
      "Finished ATC associations\n"
     ]
    }
   ],
   "source": [
    "ATC_final = {}\n",
    "\n",
    "CLOUD_to_ATC = {'FirstLevel':{},'SecondLevel':{}}\n",
    "fp = open('../data/Create_CLOUD_Pair_Annotation/Annotations/CLOUD_to_ATC.csv')\n",
    "fp.next()\n",
    "for line in fp:\n",
    "    tmp = line.strip().split(',')\n",
    "    CLOUD_to_ATC['FirstLevel'][tmp[0]] = set([ x for x in tmp[2].split(';') if x != ''])\n",
    "    CLOUD_to_ATC['SecondLevel'][tmp[0]] = set([ x for x in tmp[3].split(';') if x != ''])\n",
    "    \n",
    "for level in CLOUD_to_ATC:\n",
    "    drugpairs = {}\n",
    "    drugpairs_num = {}\n",
    "    drugpairs_hasOverlap = {}\n",
    "    for d1 in all_Clouds:\n",
    "        for d2 in all_Clouds:\n",
    "            if d1 < d2:\n",
    "                \n",
    "                associations1 = set(CLOUD_to_ATC[level][d1])\n",
    "                associations2 = set(CLOUD_to_ATC[level][d2])\n",
    "                \n",
    "                union = float(len(associations1.union(associations2)))\n",
    "\n",
    "                if union == 0.0:\n",
    "                    result = 0\n",
    "                else:\n",
    "                    result = len(associations1.intersection(associations2))/union\n",
    "                    \n",
    "                drugpairs[d1+','+d2] = result\n",
    "                drugpairs_num[d1+','+d2] = len(associations1.intersection(associations2))\n",
    "                \n",
    "                if len(associations1.intersection(associations2)) > 0:\n",
    "                    drugpairs_hasOverlap[d1+','+d2] = 1\n",
    "                else:\n",
    "                    drugpairs_hasOverlap[d1+','+d2] = 0\n",
    "                            \n",
    "                \n",
    "    ATC_final[level] = drugpairs\n",
    "    ATC_final[level+'_num'] = drugpairs_num\n",
    "    ATC_final[level+'_Overlap'] = drugpairs_hasOverlap\n",
    "print 'Finished ATC associations'"
   ]
  },
  {
   "cell_type": "markdown",
   "metadata": {},
   "source": [
    "### 7. DrugBank (Transporters, Enzymes, Carriers)\n",
    "Use information from DrugBank to find Transporters, Carriers and Enzymes"
   ]
  },
  {
   "cell_type": "code",
   "execution_count": 11,
   "metadata": {},
   "outputs": [
    {
     "name": "stdout",
     "output_type": "stream",
     "text": [
      "Finished DrugBank\n"
     ]
    }
   ],
   "source": [
    "DrugBank_final = {}\n",
    "\n",
    "#####\n",
    "## Combined Filtered\n",
    "CLOUD_Complete_Associations = {'Transporters':{},'Enzymes':{},'Carriers':{}}\n",
    "fp = open('../data/Create_CLOUD_Pair_Annotation/Annotations/CLOUD_to_TargetsSplit.csv')\n",
    "fp.next()\n",
    "for line in fp:\n",
    "    tmp = line.strip().split(',')\n",
    "    CLOUD_Targets[tmp[0]] = tmp[1].split(';')\n",
    "    CLOUD_Complete_Associations['Transporters'][tmp[0]] = [x for x in tmp[2].split(';') if x != '']\n",
    "    CLOUD_Complete_Associations['Enzymes'][tmp[0]] = [x for x in tmp[3].split(';') if x != '']\n",
    "    CLOUD_Complete_Associations['Carriers'][tmp[0]] = [x for x in tmp[4].split(';') if x != '']\n",
    "fp.close()\n",
    "\n",
    "for ProteinType in CLOUD_Complete_Associations:\n",
    "    drugpairs = {}\n",
    "    drugpairs_num = {}\n",
    "    drugpairs_hasOverlap = {}\n",
    "    for d1 in all_Clouds:\n",
    "        for d2 in all_Clouds:\n",
    "            if d1 < d2:\n",
    "                \n",
    "                associations1 = set(CLOUD_Complete_Associations[ProteinType][d1])\n",
    "                associations2 = set(CLOUD_Complete_Associations[ProteinType][d2])\n",
    "                \n",
    "                union = float(len(associations1.union(associations2)))\n",
    "\n",
    "                if union == 0.0:\n",
    "                    result = 0\n",
    "                else:\n",
    "                    result = len(associations1.intersection(associations2))/union\n",
    "                    \n",
    "                drugpairs[d1+','+d2] = result\n",
    "                drugpairs_num[d1+','+d2] = len(associations1.intersection(associations2))\n",
    "                \n",
    "                if len(associations1.intersection(associations2)) > 0:\n",
    "                    drugpairs_hasOverlap[d1+','+d2] = 1\n",
    "                else:\n",
    "                    drugpairs_hasOverlap[d1+','+d2] = 0\n",
    "                \n",
    "    DrugBank_final[ProteinType] = drugpairs\n",
    "    DrugBank_final[ProteinType+'_num'] = drugpairs_num\n",
    "    DrugBank_final[ProteinType+'_Overlap'] = drugpairs_hasOverlap\n",
    "\n",
    "print  'Finished DrugBank'"
   ]
  },
  {
   "cell_type": "markdown",
   "metadata": {},
   "source": [
    "### 8. GO \n",
    "Use whole ontology from GO (not just leaves from msigDB)"
   ]
  },
  {
   "cell_type": "code",
   "execution_count": 12,
   "metadata": {},
   "outputs": [],
   "source": [
    "def Calculate_Similarity_MaxSpecificity(targets1, targets2, GO_genes_annotation, GO_Association_UP,isSeparation = False):\n",
    "    sims = []\n",
    "    for t1 in targets1:\n",
    "        for t2 in targets2:\n",
    "            if t1 > t2 or isSeparation:\n",
    "                if len([len(GO_genes_annotation[x]) for x in set(GO_Association_UP[t1]).intersection(GO_Association_UP[t2])]) == 0:\n",
    "                    SimDis = 0\n",
    "                else:\n",
    "                    SimDis = 2.0 / min([len(GO_genes_annotation[x]) for x in set(GO_Association_UP[t1]).intersection(GO_Association_UP[t2])])\n",
    "                sims.append(SimDis)\n",
    "    if len(sims) > 0:\n",
    "        return np.mean(sims)\n",
    "    else:\n",
    "        return  0"
   ]
  },
  {
   "cell_type": "code",
   "execution_count": 14,
   "metadata": {},
   "outputs": [
    {
     "name": "stdout",
     "output_type": "stream",
     "text": [
      "\tComponent\n",
      "Load GO Associations:\n",
      "Done\n",
      "\tFunction\n",
      "Load GO Associations:\n",
      "Done\n",
      "\tProcess\n",
      "Load GO Associations:\n",
      "Done\n",
      "Finished GO ontology associations\n"
     ]
    }
   ],
   "source": [
    "#GO_Terms\n",
    "GO_Similarities_final = {}\n",
    "for go_branch in ['Component','Function','Process']:\n",
    "    print '\\t' + go_branch\n",
    "    GO_Similarities_final[go_branch] = {}\n",
    "    \n",
    "    print 'Load GO Associations:'\n",
    "    GO_Association_UP,GO_genes_annotation = GO.getAllGene_Annotation(go_branch)\n",
    "    print 'Done'\n",
    "    \n",
    "    \n",
    "    for d1 in all_Clouds:\n",
    "        for d2 in all_Clouds:\n",
    "            if d1 < d2:\n",
    "                targets1 = CLOUD_Targets[d1]\n",
    "                targets2 = CLOUD_Targets[d2]\n",
    "                if len(targets1) > 0 and len(targets2) > 0:\n",
    "                    sim = Calculate_Similarity_MaxSpecificity(targets1, targets2, GO_genes_annotation,GO_Association_UP, isSeparation=True)\n",
    "                    GO_Similarities_final[go_branch][d1+','+d2] = sim\n",
    "                else:\n",
    "                    GO_Similarities_final[go_branch][d1+','+d2] = 0\n",
    "                    \n",
    "print  'Finished GO ontology associations'"
   ]
  },
  {
   "cell_type": "markdown",
   "metadata": {},
   "source": [
    "### 9. Disease Ontology"
   ]
  },
  {
   "cell_type": "code",
   "execution_count": 15,
   "metadata": {},
   "outputs": [
    {
     "name": "stdout",
     "output_type": "stream",
     "text": [
      "Load Disease Associations:\n",
      "Done\n",
      "Finished Disease associations\n"
     ]
    }
   ],
   "source": [
    "#Disease\n",
    "Disease_Similarities_final = {}\n",
    "print 'Load Disease Associations:'\n",
    "Disease_Association_UP,d_diseases_annotation = GO.getAllGene_Disease_Annotation()\n",
    "print 'Done'\n",
    "for d1 in all_Clouds:\n",
    "    for d2 in all_Clouds:\n",
    "        if d1 < d2:\n",
    "            targets1 = CLOUD_Targets[d1]\n",
    "            targets2 = CLOUD_Targets[d2]\n",
    "            if len(targets1) > 0 and len(targets2) > 0:\n",
    "                sim = Calculate_Similarity_MaxSpecificity(targets1, targets2, d_diseases_annotation,Disease_Association_UP, isSeparation=True)\n",
    "                Disease_Similarities_final[d1+','+d2] = sim\n",
    "            else:\n",
    "                Disease_Similarities_final[d1+','+d2] = 0\n",
    "print  'Finished Disease associations'"
   ]
  },
  {
   "cell_type": "markdown",
   "metadata": {},
   "source": [
    "### 10. Create Final Combined File"
   ]
  },
  {
   "cell_type": "code",
   "execution_count": 16,
   "metadata": {},
   "outputs": [
    {
     "name": "stdout",
     "output_type": "stream",
     "text": [
      "Number of Interactions (Interacting drug pairs): 1817\n",
      "Created Drug Pair Annotation File\n"
     ]
    }
   ],
   "source": [
    "#Load known interactions\n",
    "#read the interactions, if multiple interactions between two drugs append with ;\n",
    "Interactions = {}\n",
    "fp = open('../data/Create_CLOUD_Pair_Annotation/InteractionsOverview_DPI_iS3_pS7_abMAD2_gP100.csv','r')\n",
    "fp.next()\n",
    "for line in fp:\n",
    "    tmp = line.strip().split(',')\n",
    "\n",
    "    if Interactions.has_key(tmp[0]+','+tmp[1]):\n",
    "        Interactions[tmp[0]+','+tmp[1]] = Interactions[tmp[0]+','+tmp[1]]+';'+tmp[3]\n",
    "    else:\n",
    "        Interactions[tmp[0]+','+tmp[1]] = tmp[3]\n",
    "fp.close()\n",
    "print 'Number of Interactions (Interacting drug pairs): %d' %len(Interactions)\n",
    "\n",
    "\n",
    "\n",
    "\n",
    "PPI_Metrics = list(PPI_final.keys())\n",
    "PPI_TargetSets = list(PPI_final[PPI_Metrics[0]])\n",
    "MsigAssociations = list(msigDB_Final.keys())\n",
    "KeGGHierarchies = list(KeGG_final.keys())\n",
    "SideEffectTypes = list(SideEffect_final.keys())\n",
    "ATCLevels = list(ATC_final.keys())\n",
    "DrugBankProteins = list(DrugBank_final.keys())\n",
    "GO_Types = list(GO_Similarities_final.keys())\n",
    "\n",
    "header = 'Drug1,Drug2,IsInteracting,InteractionTypes'\n",
    "header =  header +',' + 'ChemicalSimilarity'\n",
    "for m in PPI_Metrics:\n",
    "    for t in PPI_TargetSets:\n",
    "        header = header +',PPI_' +m+'_'+t\n",
    "header = header +',' +','.join(MsigAssociations)\n",
    "header = header +',' +','.join(['KeGG_'+x for x in KeGGHierarchies])\n",
    "header = header +',' +','.join(['SideEffects_'+x for x in SideEffectTypes])\n",
    "header = header +',' +','.join(['ATC_'+x for x in ATCLevels])\n",
    "header = header +',' +','.join(DrugBankProteins)\n",
    "header =  header +',' +','.join(['GO_'+x for x in GO_Types])\n",
    "header =  header +',' + 'Disease\\n'\n",
    "\n",
    "\n",
    "fp_out = open('../results/Create_CLOUD_Pair_Annotation/DrugPair_Feature_Overview.csv','w')\n",
    "fp_out.write(header)\n",
    "\n",
    "for d1 in all_Clouds:\n",
    "    for d2 in all_Clouds:\n",
    "        if d1 < d2:\n",
    "            \n",
    "            fp_out.write(d1+','+d2)\n",
    "            \n",
    "            #check if in either direction the drug pair has found interactions\n",
    "            is_interacting = 0\n",
    "            Inttype = ['None']\n",
    "            if d1+','+d2 in Interactions.keys():\n",
    "                is_interacting = 1\n",
    "                Inttype.extend(Interactions[d1+','+d2].split(';'))\n",
    "            if  d2+','+d1 in Interactions.keys():\n",
    "                is_interacting = 1\n",
    "                Inttype.extend(Interactions[d2+','+d1].split(';'))\n",
    "            if len(Inttype) > 1:\n",
    "                Inttype.remove('None')\n",
    "            Inttype.sort()\n",
    "                \n",
    "            \n",
    "            fp_out.write(','+str(is_interacting)+','+';'.join(Inttype))\n",
    "            \n",
    "            # 1. Chemical Similarity\n",
    "            chem = chemSim_final[d1+','+d2]\n",
    "            fp_out.write(','+str(chem))\n",
    "            \n",
    "            # 2. PPI Distances\n",
    "            for metric in PPI_Metrics:\n",
    "                for targetSet in PPI_TargetSets:\n",
    "                    Distance = PPI_final[metric][targetSet][d1+','+d2]\n",
    "                    fp_out.write(','+str(Distance))\n",
    "\n",
    "            # 3. msigDB\n",
    "            for association in MsigAssociations:\n",
    "                overlap = msigDB_Final[association][d1+','+d2]\n",
    "                fp_out.write(','+str(overlap))\n",
    "\n",
    "            # 4. KeGG\n",
    "            for hierarchy in KeGGHierarchies:\n",
    "                pathwayOverlap = KeGG_final[hierarchy][d1+','+d2]\n",
    "                fp_out.write(','+str(pathwayOverlap))\n",
    "                \n",
    "            # 5. Side Effects\n",
    "            for sideEffectType in SideEffectTypes:\n",
    "                sideEffectOverlap = SideEffect_final[sideEffectType][d1+','+d2]\n",
    "                fp_out.write(','+str(sideEffectOverlap))\n",
    "                \n",
    "            # 6. ATC \n",
    "            for level in ATCLevels:\n",
    "                ATC_overlap = ATC_final[level][d1+','+d2]\n",
    "                fp_out.write(','+str(ATC_overlap))\n",
    "            \n",
    "            # 7. DrugBank\n",
    "            for proteinType in DrugBankProteins:\n",
    "                proteinTypeOverlap = DrugBank_final[proteinType][d1+','+d2]\n",
    "                fp_out.write(','+str(proteinTypeOverlap))\n",
    "            \n",
    "            # 8. GO\n",
    "            for GO_Type in GO_Types:\n",
    "                GO_Overlap = GO_Similarities_final[GO_Type][d1+','+d2]\n",
    "                fp_out.write(','+str(GO_Overlap))\n",
    "                \n",
    "            # 8. Disease\n",
    "            Disease_Overlap = Disease_Similarities_final[d1+','+d2]\n",
    "            fp_out.write(','+str(Disease_Overlap) +'\\n')\n",
    "                \n",
    "            \n",
    "fp_out.close()\n",
    "print 'Created Drug Pair Annotation File'"
   ]
  },
  {
   "cell_type": "markdown",
   "metadata": {},
   "source": [
    "## Single Drug Properties"
   ]
  },
  {
   "cell_type": "markdown",
   "metadata": {},
   "source": [
    "### 1. Targets"
   ]
  },
  {
   "cell_type": "code",
   "execution_count": 17,
   "metadata": {},
   "outputs": [],
   "source": [
    "cloud_targets = {'All':{},'Filtered':{}}\n",
    "\n",
    "fp = open('../data/Create_CLOUD_Pair_Annotation/Annotations/CLOUD_All_Targets.csv','r')\n",
    "fp.next()\n",
    "all_Clouds = set()\n",
    "for line in fp:\n",
    "    tmp = line.strip().split(',')\n",
    "    cloud_targets['All'][tmp[0]] = list(set(tmp[2].split(';')))\n",
    "    all_Clouds.add(tmp[0])\n",
    "fp.close()    \n",
    "all_Clouds = list(all_Clouds)\n",
    "all_Clouds.sort()\n",
    "\n",
    "\n",
    "\n",
    "#####\n",
    "## Standard CLOUD targets = Combined Filtered\n",
    "fp = open('../data/Create_CLOUD_Pair_Annotation/Annotations/CLOUD_to_TargetsSplit.csv')\n",
    "fp.next()\n",
    "for line in fp:\n",
    "    tmp = line.strip().split(',')\n",
    "    cloud_targets['Filtered'][tmp[0]] = [x for x in tmp[1].split(';') if x != '']\n",
    "    \n",
    "    \n",
    "    "
   ]
  },
  {
   "cell_type": "markdown",
   "metadata": {},
   "source": [
    "### 2. PPI"
   ]
  },
  {
   "cell_type": "code",
   "execution_count": 18,
   "metadata": {},
   "outputs": [],
   "source": [
    "PPI = nx.read_gml('../data/Create_CLOUD_Pair_Annotation/Annotations/Human_Interactome.gml')"
   ]
  },
  {
   "cell_type": "code",
   "execution_count": 19,
   "metadata": {},
   "outputs": [],
   "source": [
    "PPI_results = {'AvgDegree':{},'AvgClustering':{}}\n",
    "\n",
    "for TargetSet in cloud_targets:\n",
    "    \n",
    "    result_dic_degree = {}\n",
    "    result_dic_clustering = {}\n",
    "    for cloud in all_Clouds:\n",
    "        degrees = [x[1] for x in nx.degree(PPI,cloud_targets[TargetSet][cloud])]\n",
    "       \n",
    "        result_degree = 'nan'\n",
    "        result_clustering = 'nan'\n",
    "        if len(degrees) > 0:\n",
    "            result_degree = np.mean(degrees)\n",
    "            result_clustering =  nx.average_clustering(PPI,cloud_targets[TargetSet][cloud])\n",
    "            \n",
    "        result_dic_degree[cloud] = result_degree\n",
    "        result_dic_clustering[cloud] = result_clustering\n",
    "    \n",
    "    PPI_results['AvgDegree'][TargetSet] = result_dic_degree\n",
    "    PPI_results['AvgClustering'][TargetSet] = result_dic_clustering            "
   ]
  },
  {
   "cell_type": "markdown",
   "metadata": {},
   "source": [
    "### 3. MsigDB"
   ]
  },
  {
   "cell_type": "code",
   "execution_count": 20,
   "metadata": {},
   "outputs": [],
   "source": [
    "msigDB_results = {}\n",
    "\n",
    "msigDBFiles = [f for f in os.listdir('../data/Create_CLOUD_Pair_Annotation/Annotations/MSigDB/') if os.path.isfile(os.path.join('../data/Create_CLOUD_Pair_Annotation/Annotations/MSigDB/', f)) and '.gmt' in f]\n",
    "\n",
    "for TargetSet in cloud_targets:\n",
    "    msigDB_results[TargetSet] = {}\n",
    "    for file in msigDBFiles:\n",
    "        #print file\n",
    "        dataname = file.split('.')[0]\n",
    "       \n",
    "\n",
    "        \n",
    "        #Find the gene to perturbation associated (one gene can have various associated perturbations)\n",
    "        fp = open('../data/Create_CLOUD_Pair_Annotation/Annotations/MSigDB/' + file,'r')\n",
    "        gene_to_association = {}\n",
    "        for line in fp:\n",
    "            tmp = line.strip().split('\\t')\n",
    "            for gene in [x for x in tmp[2:] if x != '']:\n",
    "                if gene_to_association.has_key(gene):\n",
    "                    gene_to_association[gene].append(tmp[0])\n",
    "                else:\n",
    "                    gene_to_association[gene] = [tmp[0]]\n",
    "        fp.close()\n",
    "\n",
    "\n",
    "\n",
    "        cloud_to_associations = {}\n",
    "        for cloud in all_Clouds:\n",
    "            cloud_to_associations[cloud] = []\n",
    "            for gene in cloud_targets[TargetSet][cloud]:\n",
    "                if gene_to_association.has_key(gene):\n",
    "                    cloud_to_associations[cloud].extend(gene_to_association[gene])\n",
    "        \n",
    "        cloud_to_associations_count = {}\n",
    "        for cloud in cloud_to_associations:\n",
    "            cloud_to_associations_count[cloud] = len(set(cloud_to_associations[cloud]))\n",
    "    \n",
    "\n",
    "        msigDB_results[TargetSet][dataname] = cloud_to_associations_count"
   ]
  },
  {
   "cell_type": "markdown",
   "metadata": {},
   "source": [
    "### 4. KeGG"
   ]
  },
  {
   "cell_type": "code",
   "execution_count": 21,
   "metadata": {},
   "outputs": [],
   "source": [
    "CLOUD_to_Kegg_Results = {'Direct':{},'Indirect':{}}\n",
    "fp = open('../data/Create_CLOUD_Pair_Annotation/Annotations/CLOUD_to_KeGG_Pathways.csv')\n",
    "fp.next()\n",
    "for line in fp:\n",
    "    tmp = line.strip().split(',')\n",
    "    CLOUD_to_Kegg_Results['Direct'][tmp[0]] = len([x for x in tmp[2].split(';') if x != ''])\n",
    "    CLOUD_to_Kegg_Results['Indirect'][tmp[0]] = len([x for x in tmp[3].split(';') if x != ''])"
   ]
  },
  {
   "cell_type": "markdown",
   "metadata": {},
   "source": [
    "### 5. GO"
   ]
  },
  {
   "cell_type": "code",
   "execution_count": 22,
   "metadata": {},
   "outputs": [
    {
     "name": "stdout",
     "output_type": "stream",
     "text": [
      "\tComponent\n",
      "Load GO Associations:\n",
      "Done\n",
      "\tFunction\n",
      "Load GO Associations:\n",
      "Done\n",
      "\tProcess\n",
      "Load GO Associations:\n",
      "Done\n",
      "\tComponent\n",
      "Load GO Associations:\n",
      "Done\n",
      "\tFunction\n",
      "Load GO Associations:\n",
      "Done\n",
      "\tProcess\n",
      "Load GO Associations:\n",
      "Done\n"
     ]
    }
   ],
   "source": [
    "GO_Results_Count = {}\n",
    "\n",
    "for TargetSet in cloud_targets:\n",
    "    GO_Results_Count[TargetSet] = {}\n",
    "    \n",
    "    #GO_Terms\n",
    "    for go_branch in ['Component','Function','Process']:\n",
    "        print '\\t' + go_branch\n",
    "\n",
    "        print 'Load GO Associations:'\n",
    "        GO_Association_UP,GO_genes_annotation = GO.getAllGene_Annotation(go_branch)\n",
    "        print 'Done'\n",
    "\n",
    "        for cloud in all_Clouds:\n",
    "            cloud_to_associations[cloud] = []\n",
    "            for gene in cloud_targets[TargetSet][cloud]:\n",
    "                if gene_to_association.has_key(gene):\n",
    "                    cloud_to_associations[cloud].extend(GO_Association_UP[gene])\n",
    "        \n",
    "        cloud_to_associations_count = {}\n",
    "        for cloud in cloud_to_associations:\n",
    "            cloud_to_associations_count[cloud] = len(set(cloud_to_associations[cloud]))\n",
    "    \n",
    "\n",
    "        GO_Results_Count[TargetSet][go_branch] = cloud_to_associations_count\n",
    "        "
   ]
  },
  {
   "cell_type": "markdown",
   "metadata": {},
   "source": [
    "### 6. Disease"
   ]
  },
  {
   "cell_type": "code",
   "execution_count": 23,
   "metadata": {},
   "outputs": [
    {
     "name": "stdout",
     "output_type": "stream",
     "text": [
      "Load Disease Associations:\n",
      "Done\n",
      "Load Disease Associations:\n",
      "Done\n"
     ]
    }
   ],
   "source": [
    "Disease_Results_Count = {}\n",
    "\n",
    "for TargetSet in cloud_targets: \n",
    "    print 'Load Disease Associations:'\n",
    "    Disease_Association_UP,d_diseases_annotation = GO.getAllGene_Disease_Annotation()\n",
    "    print 'Done'\n",
    "    \n",
    "    for cloud in all_Clouds:\n",
    "        cloud_to_associations[cloud] = []\n",
    "        for gene in cloud_targets[TargetSet][cloud]:\n",
    "            if gene_to_association.has_key(gene):\n",
    "                cloud_to_associations[cloud].extend(Disease_Association_UP[gene])\n",
    "\n",
    "    cloud_to_associations_count = {}\n",
    "    for cloud in cloud_to_associations:\n",
    "        cloud_to_associations_count[cloud] = len(set(cloud_to_associations[cloud]))\n",
    "\n",
    "\n",
    "    Disease_Results_Count[TargetSet] = cloud_to_associations_count\n"
   ]
  },
  {
   "cell_type": "markdown",
   "metadata": {},
   "source": [
    "### 7. SideEffects"
   ]
  },
  {
   "cell_type": "code",
   "execution_count": 24,
   "metadata": {},
   "outputs": [],
   "source": [
    "SideEffect_results = {}\n",
    "\n",
    "SideEffectFiles = [f for f in os.listdir('../data/Create_CLOUD_Pair_Annotation/Annotations/Side_Effects/') if os.path.isfile(os.path.join('../data/Create_CLOUD_Pair_Annotation/Annotations/Side_Effects/', f)) and '.csv' in f]\n",
    "\n",
    "for file in SideEffectFiles:\n",
    "    name = file.split('.')[0]\n",
    "    SideEffect_results[name] = {}\n",
    "    fp = open('../data/Create_CLOUD_Pair_Annotation/Annotations/Side_Effects/' + file,'r')\n",
    "    fp.next()\n",
    "    for line in fp:\n",
    "        tmp = line.strip().split(',')\n",
    "        SideEffect_results[name][tmp[0]] = len([x for x in tmp[2].split(';') if x != ''])\n",
    "    fp.close()\n",
    "    \n"
   ]
  },
  {
   "cell_type": "code",
   "execution_count": 25,
   "metadata": {},
   "outputs": [],
   "source": [
    "SideEffectNetworks = [f for f in os.listdir('../data/Create_CLOUD_Pair_Annotation/Annotations/Side_Effects/SideEffectNetworks/') if os.path.isfile(os.path.join('../data/Create_CLOUD_Pair_Annotation/Annotations/Side_Effects/SideEffectNetworks/', f)) and '.gml' in f]\n",
    "\n",
    "\n",
    "for network in SideEffectNetworks:\n",
    "    name = network.split('.')[0]\n",
    "    CLOUD_To_SideEffects_networks[name] = {}\n",
    "    Network = nx.read_gml('../data/Create_CLOUD_Pair_Annotation/Annotations/Side_Effects/SideEffectNetworks/' + network,'r')\n",
    "    \n",
    "    \n",
    "    drug_results = {}\n",
    "    for cloud in all_Clouds:\n",
    "        drugBank_ID = CLOUD_To_DrugBank[cloud]\n",
    "        drug_results[cloud] = len(Network.edges(drugBank_ID))\n",
    "        \n",
    "\n",
    "    SideEffect_results[network] = drug_results\n",
    "                    "
   ]
  },
  {
   "cell_type": "code",
   "execution_count": 26,
   "metadata": {},
   "outputs": [
    {
     "name": "stdout",
     "output_type": "stream",
     "text": [
      "['TwoSide_CLOUDs.gml', 'CLOUD_to_Offsides', 'Drugbank_2018-07-03_CLOUD_Only.gml', 'CLOUD_to_SIDER']\n"
     ]
    }
   ],
   "source": [
    "print SideEffect_results.keys()"
   ]
  },
  {
   "cell_type": "markdown",
   "metadata": {},
   "source": [
    "### 8. ATC"
   ]
  },
  {
   "cell_type": "code",
   "execution_count": 27,
   "metadata": {},
   "outputs": [],
   "source": [
    "ATC_results = {}\n",
    "\n",
    "ATC_results = {'FirstLevel':{},'SecondLevel':{}}\n",
    "fp = open('../data/Create_CLOUD_Pair_Annotation/Annotations/CLOUD_to_ATC.csv')\n",
    "fp.next()\n",
    "for line in fp:\n",
    "    tmp = line.strip().split(',')\n",
    "    ATC_results['FirstLevel'][tmp[0]] = len(set([ x for x in tmp[2].split(';') if x != '']))\n",
    "    ATC_results['SecondLevel'][tmp[0]] = len(set([ x for x in tmp[3].split(';') if x != '']))"
   ]
  },
  {
   "cell_type": "markdown",
   "metadata": {},
   "source": [
    "### 9. Kinetics"
   ]
  },
  {
   "cell_type": "code",
   "execution_count": 28,
   "metadata": {},
   "outputs": [
    {
     "name": "stdout",
     "output_type": "stream",
     "text": [
      "Finished Kinetics\n"
     ]
    }
   ],
   "source": [
    "kinetics_final = {}\n",
    "\n",
    "#####\n",
    "## Combined Filtered\n",
    "kinetics_final = {'Transporters':{},'Enzymes':{},'Carriers':{}}\n",
    "fp = open('../data/Create_CLOUD_Pair_Annotation/Annotations/CLOUD_to_TargetsSplit.csv')\n",
    "fp.next()\n",
    "for line in fp:\n",
    "    tmp = line.strip().split(',')\n",
    "    CLOUD_Targets[tmp[0]] = tmp[1].split(';')\n",
    "    kinetics_final['Transporters'][tmp[0]] = len([x for x in tmp[2].split(';') if x != ''])\n",
    "    kinetics_final['Enzymes'][tmp[0]] = len([x for x in tmp[3].split(';') if x != ''])\n",
    "    kinetics_final['Carriers'][tmp[0]] = len([x for x in tmp[4].split(';') if x != ''])\n",
    "fp.close()\n",
    "\n",
    "print  'Finished Kinetics'"
   ]
  },
  {
   "cell_type": "markdown",
   "metadata": {},
   "source": [
    "### 10. Single Drug Property File"
   ]
  },
  {
   "cell_type": "code",
   "execution_count": 29,
   "metadata": {},
   "outputs": [],
   "source": [
    "DPI = nx.read_gml('../data/Create_CLOUD_Pair_Annotation/DPI_Network_Complete.gml')\n",
    "\n",
    "\n",
    "TargetSets = list(cloud_targets.keys())\n",
    "PPI_Decscriptor = list(PPI_results.keys())\n",
    "MsigAssociations = list(msigDB_results[TargetSets[0]].keys())\n",
    "KeGGHierarchies = list(CLOUD_to_Kegg_Results.keys())\n",
    "SideEffectTypes = list(SideEffect_results.keys())\n",
    "ATCLevels = list(ATC_results.keys())\n",
    "DrugBankProteins = list(kinetics_final.keys())\n",
    "GO_Types = list(GO_Results_Count[TargetSets[0]].keys())\n",
    "\n",
    "header = 'Drug,NumberInteractions,NumberIncreasing,NumberDecreasing,NumberEmergent'\n",
    "header = header +',' +','.join(TargetSets)\n",
    "\n",
    "#print [y for y in [x for x in TargetSets]]\n",
    "for t in TargetSets:\n",
    "    for m in MsigAssociations:\n",
    "        header = header +',' + t+'_'+m\n",
    "        \n",
    "for p in PPI_Decscriptor:\n",
    "    for t in TargetSets:\n",
    "        header = header +',' + t+'_'+p\n",
    "        \n",
    "for t in TargetSets:\n",
    "    for g in GO_Types:\n",
    "        header = header +',' + t+'_'+g\n",
    "        \n",
    "for t in TargetSets:\n",
    "        header = header +',' + t+'_Disease'  \n",
    "\n",
    "header = header +',' +','.join(['KeGG_'+x for x in KeGGHierarchies])\n",
    "header = header +',' +','.join(['SideEffects_'+x for x in SideEffectTypes])\n",
    "header = header +',' +','.join(['ATC_'+x for x in ATCLevels])\n",
    "header = header +',' +','.join(DrugBankProteins) +'\\n'\n",
    "\n",
    "\n",
    "fp_out = open('../results/Create_CLOUD_Pair_Annotation/SingleDrug_Feature_Overview.csv','w')\n",
    "fp_out.write(header)\n",
    "\n",
    "for cloud in all_Clouds:\n",
    "    \n",
    "    interactions = DPI.edges(cloud)\n",
    "    interactions_types = []\n",
    "    for i in list(set(interactions)):\n",
    "        for key in DPI[i[0]][i[1]]:\n",
    "            interactions_types.append(DPI[i[0]][i[1]][key]['Type'])\n",
    "    number_interactions = len(interactions)\n",
    "    \n",
    "    fp_out.write(cloud+','+str(number_interactions)+','+str(interactions_types.count('Increasing'))+','+str(interactions_types.count('Decreasing'))+','+str(interactions_types.count('Emergent')))\n",
    "    \n",
    "    for t in TargetSets:\n",
    "        fp_out.write(','+str(len(cloud_targets[t][cloud])))\n",
    "                     \n",
    "\n",
    "    for t in TargetSets:\n",
    "        for m in MsigAssociations:\n",
    "            fp_out.write(','+str(msigDB_results[t][m][cloud]))\n",
    "\n",
    "    for p in PPI_Decscriptor:\n",
    "        for t in TargetSets:\n",
    "            fp_out.write(','+str(PPI_results[p][t][cloud]))\n",
    "\n",
    "    for t in TargetSets:\n",
    "        for g in GO_Types:\n",
    "            fp_out.write(','+str(GO_Results_Count[t][g][cloud]))\n",
    "\n",
    "    for t in TargetSets:\n",
    "            fp_out.write(','+str(Disease_Results_Count[t][cloud]))\n",
    "                         \n",
    "    for k in KeGGHierarchies:\n",
    "        fp_out.write(','+str(CLOUD_to_Kegg_Results[k][cloud]))\n",
    "                     \n",
    "    for k in SideEffectTypes:\n",
    "        fp_out.write(','+str(SideEffect_results[k][cloud]))\n",
    "    \n",
    "    for k in ATCLevels:\n",
    "        fp_out.write(','+str(ATC_results[k][cloud]))\n",
    "            \n",
    "    for k in DrugBankProteins:\n",
    "        fp_out.write(','+str(kinetics_final[k][cloud]))\n",
    "    \n",
    "    fp_out.write('\\n')\n",
    "fp_out.close()\n",
    "        "
   ]
  },
  {
   "cell_type": "code",
   "execution_count": null,
   "metadata": {},
   "outputs": [],
   "source": []
  }
 ],
 "metadata": {
  "kernelspec": {
   "display_name": "Python 2",
   "language": "python",
   "name": "python2"
  },
  "language_info": {
   "codemirror_mode": {
    "name": "ipython",
    "version": 2
   },
   "file_extension": ".py",
   "mimetype": "text/x-python",
   "name": "python",
   "nbconvert_exporter": "python",
   "pygments_lexer": "ipython2",
   "version": "2.7.10"
  }
 },
 "nbformat": 4,
 "nbformat_minor": 2
}
