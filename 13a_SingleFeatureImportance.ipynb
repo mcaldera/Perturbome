{
 "cells": [
  {
   "cell_type": "code",
   "execution_count": 1,
   "metadata": {},
   "outputs": [],
   "source": [
    "import numpy as np\n",
    "from matplotlib import pylab as plt"
   ]
  },
  {
   "cell_type": "code",
   "execution_count": 3,
   "metadata": {},
   "outputs": [
    {
     "name": "stdout",
     "output_type": "stream",
     "text": [
      "Filtered: 0.08\n",
      "All: 0.09\n",
      "Filtered_MsigD_BP: 0.14\n",
      "Filtered_MsigD_MF: 0.15\n",
      "Filtered_Msig_ChemGen_Perturbation: 0.16\n",
      "Filtered_MsigD_CC: 0.10\n",
      "Filtered_MsigD_KeGG: 0.17\n",
      "All_MsigD_BP: 0.14\n",
      "All_MsigD_MF: 0.15\n",
      "All_Msig_ChemGen_Perturbation: 0.16\n",
      "All_MsigD_CC: 0.11\n",
      "All_MsigD_KeGG: 0.17\n",
      "Filtered_AvgDegree: 0.15\n",
      "All_AvgDegree: 0.20\n",
      "Filtered_AvgClustering: 0.01\n",
      "All_AvgClustering: -0.01\n",
      "Filtered_Function: 0.16\n",
      "Filtered_Process: 0.12\n",
      "Filtered_Component: 0.13\n",
      "All_Function: 0.17\n",
      "All_Process: 0.13\n",
      "All_Component: 0.13\n",
      "Filtered_Disease: 0.20\n",
      "All_Disease: 0.19\n",
      "KeGG_Indirect: 0.16\n",
      "KeGG_Direct: -0.05\n",
      "SideEffects_TwoSide_CLOUDs.gml: 0.02\n",
      "SideEffects_CLOUD_to_Offsides: 0.03\n",
      "SideEffects_Drugbank_2018-07-03_CLOUD_Only.gml: -0.03\n",
      "SideEffects_CLOUD_to_SIDER: 0.07\n",
      "ATC_SecondLevel: -0.09\n",
      "ATC_FirstLevel: -0.09\n",
      "Enzymes: 0.05\n",
      "Transporters: 0.07\n",
      "Carriers: 0.08\n"
     ]
    }
   ],
   "source": [
    "fp = open('../data/Machine_Learning/SingleDrug_Feature_Overview.csv','r')\n",
    "features = fp.readline().strip().split(',')[5:]\n",
    "\n",
    "correlations = []\n",
    "for f in range(0,len(features)):\n",
    "    fp.seek(0)\n",
    "    fp.next()\n",
    "    \n",
    "    num_interactions = []\n",
    "    feature_values = []\n",
    "    for line in fp:\n",
    "        tmp = line.strip().split(',')\n",
    "        values = [x for x in tmp[5:]]\n",
    "        \n",
    "        if values[f] != 'nan':\n",
    "            num_interactions.append(float(tmp[1]))\n",
    "            feature_values.append(float(values[f]))\n",
    "    \n",
    "    correlation = np.corrcoef(num_interactions,feature_values)[0][1]\n",
    "    plt.scatter(num_interactions,feature_values, alpha=0.4, c='grey')\n",
    "    plt.xlabel('Number Interactions')\n",
    "    plt.ylabel(features[f])\n",
    "    plt.legend(['Pearson: %.2f' %correlation])\n",
    "    plt.savefig('../results/Machine_Learning/SingleFeatureResults/'+features[f]+'.pdf',format='pdf')\n",
    "    plt.close()\n",
    "    #plt.show()\n",
    "    print features[f] +': %.2f' %correlation\n",
    "    correlations.append(correlation)\n",
    "\n",
    "plt.hist(correlations,bins=6, color='grey', edgecolor='grey', linewidth=1.2)\n",
    "plt.xlim([-1,1])\n",
    "plt.xlabel('Single Feature Correlation')\n",
    "plt.savefig('../results/Machine_Learning/SingleFeatureResults/OverviewAllCorrelations.pdf',format='pdf')\n",
    "plt.close()"
   ]
  },
  {
   "cell_type": "code",
   "execution_count": null,
   "metadata": {},
   "outputs": [],
   "source": []
  },
  {
   "cell_type": "code",
   "execution_count": null,
   "metadata": {},
   "outputs": [],
   "source": []
  },
  {
   "cell_type": "code",
   "execution_count": null,
   "metadata": {},
   "outputs": [],
   "source": []
  },
  {
   "cell_type": "code",
   "execution_count": null,
   "metadata": {},
   "outputs": [],
   "source": []
  }
 ],
 "metadata": {
  "kernelspec": {
   "display_name": "Python 2",
   "language": "python",
   "name": "python2"
  },
  "language_info": {
   "codemirror_mode": {
    "name": "ipython",
    "version": 2
   },
   "file_extension": ".py",
   "mimetype": "text/x-python",
   "name": "python",
   "nbconvert_exporter": "python",
   "pygments_lexer": "ipython2",
   "version": "2.7.10"
  }
 },
 "nbformat": 4,
 "nbformat_minor": 2
}
